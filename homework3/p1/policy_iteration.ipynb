{
 "cells": [
  {
   "cell_type": "code",
   "execution_count": 1,
   "id": "initial_id",
   "metadata": {
    "collapsed": true,
    "jupyter": {
     "outputs_hidden": true
    },
    "ExecuteTime": {
     "end_time": "2024-04-05T01:39:48.730904Z",
     "start_time": "2024-04-05T01:39:48.037695Z"
    }
   },
   "outputs": [],
   "source": [
    "import numpy as np\n",
    "import matplotlib.pyplot as plt\n",
    "from copy import deepcopy\n"
   ]
  },
  {
   "cell_type": "code",
   "execution_count": 2,
   "id": "7c1471b7a336aabf",
   "metadata": {
    "collapsed": false,
    "ExecuteTime": {
     "end_time": "2024-04-05T01:39:51.468516Z",
     "start_time": "2024-04-05T01:39:51.451561Z"
    }
   },
   "outputs": [],
   "source": [
    "# Create the 10x10 grid map\n",
    "# note that (0,0) is in the bottom-left corner\n",
    "# the map is stored as a 1D list\n",
    "# the cell (x,y) is indexed as [x+y*10] for x in [0,9] and y in [0,9]\n",
    "# x is the horizontal axis, y is the vertical axis\n",
    "# so the index looks like: \n",
    "#\n",
    "# 90 91 92 93 94 95 96 97 98 99\n",
    "# 80 81 82 83 84 85 86 87 88 89\n",
    "# ...\n",
    "# 10 11 12 13 14 15 16 17 18 19\n",
    "# 00 01 02 03 04 05 06 07 08 09\n",
    "#\n",
    "# each element is a number storing the reward for ending up in that cell\n",
    "\n",
    "# Create the map\n",
    "state_reward_map = np.zeros(10 ** 2, dtype=int)\n",
    "\n",
    "# Abot special grids: \n",
    "# If the agent enters an obstacle cell, it will always stay there, won't be able to move\n",
    "# If the agent enters a goal cell, it will always stay and receive the goal state reward at every time step\n",
    "\n",
    "# Define the rewards of special grids\n",
    "# The obstacle cells are [[9, 9], [8, 9], [7, 9], [6, 9], [5, 9], [4, 9], [3, 9], [2, 9], [1, 9], [0, 9],\n",
    "# [9, 8], [9, 7], [9, 6], [9, 5], [9, 4], [9, 3], [9, 2], [9, 1], [9, 0],\n",
    "# [0, 0], [1, 0], [2, 0], [3, 0], [4, 0], [5, 0], [6, 0], [7, 0], [8, 0], [9, 0],\n",
    "# [0, 1], [0, 2], [0, 3], [0, 4], [0, 5], [0, 6], [0, 7], [0, 8], [0, 9],\n",
    "# [3, 2], [4, 2], [5, 2], [6, 2],\n",
    "# [4, 4], [4, 5], [4, 6], [4, 7], [5, 7],\n",
    "# [7, 4], [7, 5]]\n",
    "# Ending up in an obstacle cell receives a reward of -10 every time step\n",
    "obstacle_coords = [[9, 9], [8, 9], [7, 9], [6, 9], [5, 9], [4, 9], [3, 9], [2, 9], [1, 9], [0, 9],\n",
    "                  [9, 8], [9, 7], [9, 6], [9, 5], [9, 4], [9, 3], [9, 2], [9, 1], [9, 0],\n",
    "                  [0, 0], [1, 0], [2, 0], [3, 0], [4, 0], [5, 0], [6, 0], [7, 0], [8, 0], [9, 0],\n",
    "                  [0, 1], [0, 2], [0, 3], [0, 4], [0, 5], [0, 6], [0, 7], [0, 8], [0, 9],\n",
    "                  [3, 2], [4, 2], [5, 2], [6, 2],\n",
    "                  [4, 4], [4, 5], [4, 6], [4, 7], [5, 7],\n",
    "                  [7, 4], [7, 5]]\n",
    "for cell in obstacle_coords:\n",
    "    state_reward_map[cell[0] + cell[1] * 10] = -10\n",
    "\n",
    "# Define the goal cells\n",
    "goal_coords = [[8, 1]]\n",
    "# Ending up in a goal cell receives a reward of 10 every time step\n",
    "for cell in goal_coords:\n",
    "    state_reward_map[cell[0] + cell[1] * 10] = 10\n",
    "    \n",
    "# Define the origin cells\n",
    "origin_1_coords = [[1, 1]]\n",
    "origin_2_coords = [[3, 6]]\n"
   ]
  },
  {
   "cell_type": "code",
   "execution_count": 3,
   "id": "e8953bdf4d511e4d",
   "metadata": {
    "collapsed": false,
    "ExecuteTime": {
     "end_time": "2024-04-05T01:39:53.256650Z",
     "start_time": "2024-04-05T01:39:53.057584Z"
    }
   },
   "outputs": [
    {
     "name": "stdout",
     "output_type": "stream",
     "text": [
      "The reward map:\n",
      "[-10 -10 -10 -10 -10 -10 -10 -10 -10 -10]\n",
      "[-10   0   0   0   0   0   0   0  10 -10]\n",
      "[-10   0   0 -10 -10 -10 -10   0   0 -10]\n",
      "[-10   0   0   0   0   0   0   0   0 -10]\n",
      "[-10   0   0   0 -10   0   0 -10   0 -10]\n",
      "[-10   0   0   0 -10   0   0 -10   0 -10]\n",
      "[-10   0   0   0 -10   0   0   0   0 -10]\n",
      "[-10   0   0   0 -10 -10   0   0   0 -10]\n",
      "[-10   0   0   0   0   0   0   0   0 -10]\n",
      "[-10 -10 -10 -10 -10 -10 -10 -10 -10 -10]\n"
     ]
    },
    {
     "data": {
      "text/plain": "<Figure size 500x500 with 2 Axes>",
      "image/png": "[encoded data removed]"
     },
     "metadata": {},
     "output_type": "display_data"
    }
   ],
   "source": [
    "def test_reward_map(test_flag, state_reward_map):\n",
    "    if test_flag:\n",
    "        # Test the reward map\n",
    "        print(\"The reward map:\")\n",
    "        for i in range(10):\n",
    "            print(state_reward_map[i*10:i*10+10])\n",
    "        \n",
    "        plt.figure(figsize=(5, 5))\n",
    "        plt.imshow(state_reward_map.reshape(10, 10), cmap='cividis', origin='lower')\n",
    "        plt.colorbar()\n",
    "        plt.title('The reward map')\n",
    "        plt.show()\n",
    "\n",
    "\n",
    "test_flag = True\n",
    "test_reward_map(test_flag, state_reward_map)\n",
    "\n",
    "# Running this test, we can see that the map is stored upside down, the origin is in the bottom-left corner\n",
    "# But when displaying, we can just set the origin to 'lower' to display it correctly\n",
    "# So there is no need to manually flip the map"
   ]
  },
  {
   "cell_type": "code",
   "execution_count": 4,
   "id": "2117d0fb60ddb46c",
   "metadata": {
    "collapsed": false,
    "ExecuteTime": {
     "end_time": "2024-04-05T01:40:01.508983Z",
     "start_time": "2024-04-05T01:40:01.504642Z"
    }
   },
   "outputs": [],
   "source": [
    "def map_x_y_to_state(x, y):\n",
    "    return x + y * 10\n",
    "\n",
    "\n",
    "# def flat_map_to_2D_map(flat_map):\n",
    "#     \"\"\"\n",
    "#     Be very careful that the indexes are formulated like this\n",
    "#         [[90 91 92 93 94 95 96 97 98 99],\n",
    "#          [80 81 82 83 84 85 86 87 88 89],\n",
    "#          ...\n",
    "#          [10 11 12 13 14 15 16 17 18 19],\n",
    "#          [00 01 02 03 04 05 06 07 08 09]]\n",
    "#     \n",
    "#     :param flat_map: (100,) or (100,1) array\n",
    "#     :return: 2D array (10,10), for plotting\n",
    "#     \"\"\"\n",
    "#     # Check if the input is a 2D array, reshape to (100,) if necessary\n",
    "#     if len(flat_map.shape) == 2:\n",
    "#         flat_map = flat_map.reshape(-1)\n",
    "#         \n",
    "#     # Convert the flat map to a 2D map\n",
    "#     map_2d = np.zeros((10, 10))\n",
    "#     for i in range(10):\n",
    "#         for j in range(10):\n",
    "#             map_2d[j, i] = flat_map[i + j * 10]\n",
    "#     return map_2d   \n"
   ]
  },
  {
   "cell_type": "code",
   "execution_count": 5,
   "id": "192ffe20ac8515b1",
   "metadata": {
    "collapsed": false,
    "ExecuteTime": {
     "end_time": "2024-04-05T01:40:02.780136Z",
     "start_time": "2024-04-05T01:40:02.773129Z"
    }
   },
   "outputs": [],
   "source": [
    "# test_flag = False\n",
    "# \n",
    "# \n",
    "# if test_flag:\n",
    "#     # Test flat_map_to_2D_map\n",
    "#     # Try creating a map with the obstacles and the goal represented in 1D index\n",
    "#     # We can first convert the above defined coordinates to 1D index\n",
    "#     obstacle_coords_1D = [map_x_y_to_state(cell[0], cell[1]) for cell in obstacle_coords]\n",
    "#     goal_coords_1D = [map_x_y_to_state(cell[0], cell[1]) for cell in goal_coords]\n",
    "#     origin_1_coords_1D = [map_x_y_to_state(cell[0], cell[1]) for cell in origin_1_coords]\n",
    "#     origin_2_coords_1D = [map_x_y_to_state(cell[0], cell[1]) for cell in origin_2_coords]\n",
    "#     \n",
    "#     # Mark the obstacles, goal, and origin cells\n",
    "#     state_reward_map_1D_test = np.zeros(100)\n",
    "#     for cell in obstacle_coords_1D:\n",
    "#         state_reward_map_1D_test[cell] = -10\n",
    "#     for cell in goal_coords_1D:\n",
    "#         state_reward_map_1D_test[cell] = 10\n",
    "#     for cell in origin_1_coords_1D:\n",
    "#         state_reward_map_1D_test[cell] = 5\n",
    "#     for cell in origin_2_coords_1D:\n",
    "#         state_reward_map_1D_test[cell] = -5\n",
    "#         \n",
    "#     map_2d = state_reward_map_1D_test.reshape(10, 10)\n",
    "#     \n",
    "#     plt.figure(figsize=(5, 5))\n",
    "#     plt.imshow(map_2d, cmap='cividis', origin='lower')\n",
    "#     plt.colorbar()\n",
    "#     plt.title('Obs, goal, and origins highlighted')\n",
    "#     plt.show()\n"
   ]
  },
  {
   "cell_type": "code",
   "execution_count": 6,
   "id": "5286e60edf21570b",
   "metadata": {
    "collapsed": false,
    "ExecuteTime": {
     "end_time": "2024-04-05T01:40:03.562126Z",
     "start_time": "2024-04-05T01:40:03.546079Z"
    }
   },
   "outputs": [],
   "source": [
    "# Define the action list\n",
    "actions = {'stay': -1, 'N': 0, 'E': 1, 'S': 2, 'W': 3}\n"
   ]
  },
  {
   "cell_type": "code",
   "execution_count": 7,
   "id": "603a3d9d6a0c696e",
   "metadata": {
    "collapsed": false,
    "ExecuteTime": {
     "end_time": "2024-04-05T01:40:05.923346Z",
     "start_time": "2024-04-05T01:40:05.916992Z"
    }
   },
   "outputs": [],
   "source": [
    "# About the action rewards: \n",
    "# The robot is allowed to stay in the goal state indefinitely, and this stay action gets no reward/cost\n",
    "# When in obstacle cells, the robot is forced to stay with receiving reward -10, but no additional action cost\n",
    "# Taking actions at all other states (including stay), regardless of the outcome, receives a reward of -1\n"
   ]
  },
  {
   "cell_type": "code",
   "execution_count": 8,
   "id": "e278a1169d15ae4f",
   "metadata": {
    "collapsed": false,
    "ExecuteTime": {
     "end_time": "2024-04-05T01:40:08.265042Z",
     "start_time": "2024-04-05T01:40:08.241656Z"
    }
   },
   "outputs": [],
   "source": [
    "# About the action probabilities: \n",
    "# The agent moves in the intended direction with probability 0.7\n",
    "# The agent moves in the left/right of the intended direction with probability 0.1\n",
    "# The agent stays in the same cell with probability 0.1\n",
    "# The agent won't move to the opposite direction of the intended direction\n",
    "\n",
    "# Define a function to always make the policy matrix valid\n",
    "def make_policy_valid(policy):\n",
    "    \"\"\"\n",
    "    Make the policy matrix valid\n",
    "    :param policy: a 10x10 matrix, each element is an action, the action given by the policy only depend on the state (grid)\n",
    "    :return: a valid policy matrix\n",
    "    \"\"\"\n",
    "    \n",
    "    # Check if the policy matrix is 10x10\n",
    "    if policy.shape != (10, 10): raise ValueError('The policy matrix should be a 10x10 matrix')\n",
    "    # Each element should be an integer in [-1, 3]\n",
    "    if not np.all(np.isin(policy, [-1, 0, 1, 2, 3])): raise ValueError('Each element in the policy matrix should be an integer in [-1, 3]')\n",
    "    # Obstacle cells and goal cells should have no action\n",
    "    obstacle_coords = [[9, 9], [8, 9], [7, 9], [6, 9], [5, 9], [4, 9], [3, 9], [2, 9], [1, 9], [0, 9], [9, 8], [9, 7], [9, 6], [9, 5], [9, 4], [9, 3], [9, 2], [9, 1], [9, 0], [0, 0], [1, 0], [2, 0], [3, 0], [4, 0], [5, 0], [6, 0], [7, 0], [8, 0], [9, 0], [0, 1], [0, 2], [0, 3], [0, 4], [0, 5], [0, 6], [0, 7], [0, 8], [0, 9], [3, 2], [4, 2], [5, 2], [6, 2], [4, 4], [4, 5], [4, 6], [4, 7], [5, 7], [7, 4], [7, 5]]\n",
    "    goal_coords = [[8, 1]]\n",
    "    for cell in obstacle_coords + goal_coords:\n",
    "        policy[cell[1], cell[0]] = -1\n",
    "        \n",
    "    return policy\n"
   ]
  },
  {
   "cell_type": "code",
   "execution_count": 9,
   "id": "12dff71a743fa636",
   "metadata": {
    "collapsed": false,
    "ExecuteTime": {
     "end_time": "2024-04-05T01:40:13.717224Z",
     "start_time": "2024-04-05T01:40:13.700159Z"
    }
   },
   "outputs": [],
   "source": [
    "# Define the transition matrix\n",
    "# The transition matrix is a 100x100 matrix\n",
    "# Each row corresponds to a state\n",
    "# Each column corresponds to a possible next state\n",
    "# The element at [row, column] is the probability of transitioning from state \"row\" to state \"column\" with the intended action\n",
    "# The transition matrix is sparse (mostly zeros)\n",
    "\n",
    "# Compute the transition matrix depending on the policy\n",
    "def get_transition_matrix(policy):\n",
    "    \"\"\"\n",
    "    :param replacement: True uses the new function, otherwise uses the old function to compute the transition matrix\n",
    "    :param policy: (10,10) matrix, each element is an integer from -1 to 3, representing the action to take\n",
    "    :return: (100,100) matrix, representing the probability of moving from state i to state j\n",
    "\n",
    "    state i is at [i//10, i%10]\n",
    "    \"\"\"\n",
    "    # Check if the policy matrix is valid: \n",
    "    # 10x10\n",
    "    if policy.shape != (10, 10):\n",
    "        raise ValueError('The policy matrix should be a 10x10 matrix')\n",
    "    # Each element should be an integer in [-1, 3]\n",
    "    if not np.all(np.isin(policy, [-1, 0, 1, 2, 3])):\n",
    "        raise ValueError('Each element in the policy matrix should be an integer in [-1, 3]')\n",
    "    # Obstacle cells and goal cells should have no action\n",
    "    obstacle_coords = [[9, 9], [8, 9], [7, 9], [6, 9], [5, 9], [4, 9], [3, 9], [2, 9], [1, 9], [0, 9], [9, 8], [9, 7], [9, 6], [9, 5], [9, 4], [9, 3], [9, 2], [9, 1], [9, 0], [0, 0], [1, 0], [2, 0], [3, 0], [4, 0], [5, 0], [6, 0], [7, 0], [8, 0], [9, 0], [0, 1], [0, 2], [0, 3], [0, 4], [0, 5], [0, 6], [0, 7], [0, 8], [0, 9], [3, 2], [4, 2], [5, 2], [6, 2], [4, 4], [4, 5], [4, 6], [4, 7], [5, 7], [7, 4], [7, 5]]\n",
    "    goal_coords = [[8, 1]]\n",
    "    for cell in obstacle_coords + goal_coords:\n",
    "        if np.abs(policy[cell[1], cell[0]] + 1) > 1e-2:\n",
    "            make_policy_valid(policy)\n",
    "            # raise ValueError('Obstacle cells and goal cells should have no action')\n",
    "    \n",
    "    grid_len = 10\n",
    "    move_prob = 0.7\n",
    "    move_p1_prob = 0.1\n",
    "    move_m1_prob = 0.1\n",
    "    stay_prob = 0.1\n",
    "    \n",
    "    T = np.zeros((grid_len ** 2, grid_len ** 2), dtype=float)\n",
    "    for i in range(grid_len):  # x\n",
    "        for j in range(grid_len):  # y\n",
    "            state = map_x_y_to_state(i, j)  # state = i*10+j, at (i,j)\n",
    "            policy_action = policy[i, j]  # action to take at (i,j) according to policy\n",
    "            if policy_action == 0:  # intend to move N\n",
    "                # (i,j+1) with prob move_prob if not hit N boundary\n",
    "                # (i+1,j) with prob move_p1_prob if not hit E boundary\n",
    "                # (i-1,j) with prob move_m1_prob if not hit W boundary\n",
    "                # (i,j) with prob stay_prob (not hit any boundary), or stay_prob+move_prob (hit N boundary), or stay_prob+move_p1_prob (hit E boundary), or stay_prob+move_m1_prob (hit W boundary)\n",
    "                if j < grid_len - 1:\n",
    "                    T[state, map_x_y_to_state(i, j + 1)] += move_prob\n",
    "                else:\n",
    "                    T[state, state] += move_prob\n",
    "                if i < grid_len - 1:\n",
    "                    T[state, map_x_y_to_state(i + 1, j)] += move_p1_prob\n",
    "                else:\n",
    "                    T[state, state] += move_p1_prob\n",
    "                if i > 0:\n",
    "                    T[state, map_x_y_to_state(i - 1, j)] += move_m1_prob\n",
    "                else:\n",
    "                    T[state, state] += move_m1_prob\n",
    "                T[state, state] += stay_prob\n",
    "\n",
    "            elif policy_action == 1:  # intend to move E\n",
    "                # (i+1,j) with prob move_prob if not hit E boundary\n",
    "                # (i,j-1) with prob move_p1_prob if not hit S boundary\n",
    "                # (i,j+1) with prob move_m1_prob if not hit N boundary\n",
    "                # (i,j) with prob stay_prob (not hit any boundary), or stay_prob+move_prob (hit E boundary), or stay_prob+move_p1_prob (hit S boundary), or stay_prob+move_m1_prob (hit N boundary)\n",
    "                if i < grid_len - 1:\n",
    "                    T[state, map_x_y_to_state(i + 1, j)] += move_prob\n",
    "                else:\n",
    "                    T[state, state] += move_prob\n",
    "                if j > 0:\n",
    "                    T[state, map_x_y_to_state(i, j - 1)] += move_p1_prob\n",
    "                else:\n",
    "                    T[state, state] += move_p1_prob\n",
    "                if j < grid_len - 1:\n",
    "                    T[state, map_x_y_to_state(i, j + 1)] += move_m1_prob\n",
    "                else:\n",
    "                    T[state, state] += move_m1_prob\n",
    "                T[state, state] += stay_prob\n",
    "\n",
    "            elif policy_action == 2:  # intend to move S\n",
    "                # (i,j-1) with prob move_prob if not hit S boundary\n",
    "                # (i-1,j) with prob move_p1_prob if not hit W boundary\n",
    "                # (i+1,j) with prob move_m1_prob if not hit E boundary\n",
    "                # (i,j) with prob stay_prob (not hit any boundary), or stay_prob+move_prob (hit S boundary), or stay_prob+move_p1_prob (hit W boundary), or stay_prob+move_m1_prob (hit E boundary)\n",
    "                if j > 0:\n",
    "                    T[state, map_x_y_to_state(i, j - 1)] += move_prob\n",
    "                else:\n",
    "                    T[state, state] += move_prob\n",
    "                if i > 0:\n",
    "                    T[state, map_x_y_to_state(i - 1, j)] += move_p1_prob\n",
    "                else:\n",
    "                    T[state, state] += move_p1_prob\n",
    "                if i < grid_len - 1:\n",
    "                    T[state, map_x_y_to_state(i + 1, j)] += move_m1_prob\n",
    "                else:\n",
    "                    T[state, state] += move_m1_prob\n",
    "                T[state, state] += stay_prob\n",
    "\n",
    "            elif policy_action == 3:  # intend to move W\n",
    "                # (i-1,j) with prob move_prob if not hit W boundary\n",
    "                # (i,j+1) with prob move_p1_prob if not hit N boundary\n",
    "                # (i,j-1) with prob move_m1_prob if not hit S boundary\n",
    "                # (i,j) with prob stay_prob (not hit any boundary), or stay_prob+move_prob (hit W boundary), or stay_prob+move_p1_prob (hit N boundary), or stay_prob+move_m1_prob (hit S boundary)\n",
    "                if i > 0:\n",
    "                    T[state, map_x_y_to_state(i - 1, j)] += move_prob\n",
    "                else:\n",
    "                    T[state, state] += move_prob\n",
    "                if j < grid_len - 1:\n",
    "                    T[state, map_x_y_to_state(i, j + 1)] += move_p1_prob\n",
    "                else:\n",
    "                    T[state, state] += move_p1_prob\n",
    "                if j > 0:\n",
    "                    T[state, map_x_y_to_state(i, j - 1)] += move_m1_prob\n",
    "                else:\n",
    "                    T[state, state] += move_m1_prob\n",
    "                T[state, state] += stay_prob\n",
    "\n",
    "            else:  # -1 and otherwise, intend to stay\n",
    "                # (i,j) with prob stay_prob\n",
    "                T[state, state] += 1\n",
    "\n",
    "    # Check if the transition matrix is valid\n",
    "    if not np.allclose(np.sum(T, axis=1), 1):\n",
    "        raise ValueError('The transition matrix is not valid')\n",
    "\n",
    "    return T"
   ]
  },
  {
   "cell_type": "code",
   "execution_count": 10,
   "id": "5c4df2bc54175b20",
   "metadata": {
    "collapsed": false,
    "ExecuteTime": {
     "end_time": "2024-04-05T01:40:15.071033Z",
     "start_time": "2024-04-05T01:40:15.060263Z"
    }
   },
   "outputs": [
    {
     "name": "stdout",
     "output_type": "stream",
     "text": [
      "policy: \n",
      "[[-1 -1 -1 -1 -1 -1 -1 -1 -1 -1]\n",
      " [-1  1  1  1  1  1  1  1 -1 -1]\n",
      " [-1  1  1 -1 -1 -1 -1  1  1 -1]\n",
      " [-1  1  1  1  1  1  1  1  1 -1]\n",
      " [-1  1  1  1 -1  1  1 -1  1 -1]\n",
      " [-1  1  1  1 -1  1  1 -1  1 -1]\n",
      " [-1  1  1  1 -1  1  1  1  1 -1]\n",
      " [-1  1  1  1 -1 -1  1  1  1 -1]\n",
      " [-1  1  1  1  1  1  1  1  1 -1]\n",
      " [-1 -1 -1 -1 -1 -1 -1 -1 -1 -1]]\n",
      "policy at (3,4): \n",
      "1\n",
      "transition_matrix: \n",
      "[[1. 0. 0. ... 0. 0. 0.]\n",
      " [0. 1. 0. ... 0. 0. 0.]\n",
      " [0. 0. 1. ... 0. 0. 0.]\n",
      " ...\n",
      " [0. 0. 0. ... 1. 0. 0.]\n",
      " [0. 0. 0. ... 0. 1. 0.]\n",
      " [0. 0. 0. ... 0. 0. 1.]]\n"
     ]
    }
   ],
   "source": [
    "test_flag = True\n",
    "\n",
    "def test_transition_matrix(test_flag):\n",
    "    if test_flag:\n",
    "        # Test get_transition_matrix\n",
    "        # Initialize the policy where the agent always moves E, i.e., policy[x, y] = 1 for all non-obstacle/goal cells\n",
    "        policy = 1 * np.ones((10, 10), dtype=int)\n",
    "        policy = make_policy_valid(policy)\n",
    "        print(\"policy: \")\n",
    "        print(policy)\n",
    "        print(\"policy at (3,4): \")\n",
    "        print(policy[3,4])\n",
    "        transition_matrix = get_transition_matrix(policy)\n",
    "        print(\"transition_matrix: \")\n",
    "        print(transition_matrix)\n",
    "    \n",
    "\n",
    "test_transition_matrix(test_flag)\n"
   ]
  },
  {
   "cell_type": "code",
   "execution_count": 11,
   "id": "c6aa57847f23cf54",
   "metadata": {
    "collapsed": false,
    "ExecuteTime": {
     "end_time": "2024-04-05T01:40:24.026518Z",
     "start_time": "2024-04-05T01:40:24.010785Z"
    }
   },
   "outputs": [],
   "source": [
    "def get_action_reward_map():\n",
    "    \"\"\"\n",
    "    :return: (100,100) matrix, representing the reward of moving from state i to state j, same dimension as the transition matrix\n",
    "\n",
    "    State i is at [i//10, i%10]\n",
    "    \n",
    "    All actions receive a reward of -1, except for staying at the goal state & obstacles, which receives a reward of 0\n",
    "    \"\"\"\n",
    "    grid_len = 10\n",
    "    action_reward = -np.ones((grid_len ** 2, grid_len ** 2), dtype=float)\n",
    "    for i in range(grid_len):  # x\n",
    "        for j in range(grid_len):  # y\n",
    "            if [i, j] in obstacle_coords:  # obstacle, cost 0 to stay\n",
    "                state = map_x_y_to_state(i, j)\n",
    "                action_reward[state, state] = 0\n",
    "            elif [i, j] in goal_coords:  # goal, cost 0 to stay\n",
    "                state = map_x_y_to_state(i, j)\n",
    "                action_reward[state, state] = 0\n",
    "            else:  # other states, cost 1 to move to other states\n",
    "                # since we initialize the action cost to 1, we don't need to do anything here\n",
    "                pass\n",
    "    return action_reward\n",
    "    "
   ]
  },
  {
   "cell_type": "code",
   "execution_count": 12,
   "id": "68a1b284b9f4e67a",
   "metadata": {
    "collapsed": false,
    "ExecuteTime": {
     "end_time": "2024-04-05T01:40:29.212791Z",
     "start_time": "2024-04-05T01:40:29.193603Z"
    }
   },
   "outputs": [
    {
     "name": "stdout",
     "output_type": "stream",
     "text": [
      "[[ 0. -1. -1. ... -1. -1. -1.]\n",
      " [-1.  0. -1. ... -1. -1. -1.]\n",
      " [-1. -1.  0. ... -1. -1. -1.]\n",
      " ...\n",
      " [-1. -1. -1. ...  0. -1. -1.]\n",
      " [-1. -1. -1. ... -1.  0. -1.]\n",
      " [-1. -1. -1. ... -1. -1.  0.]]\n"
     ]
    }
   ],
   "source": [
    "action_reward_map = get_action_reward_map()\n",
    "print(action_reward_map)\n"
   ]
  },
  {
   "cell_type": "code",
   "execution_count": 23,
   "id": "c0e473f9fe72b0c2",
   "metadata": {
    "collapsed": false,
    "ExecuteTime": {
     "end_time": "2024-04-05T02:05:21.264648Z",
     "start_time": "2024-04-05T02:03:54.881136Z"
    }
   },
   "outputs": [
    {
     "ename": "KeyboardInterrupt",
     "evalue": "",
     "output_type": "error",
     "traceback": [
      "\u001B[1;31m---------------------------------------------------------------------------\u001B[0m",
      "\u001B[1;31mKeyboardInterrupt\u001B[0m                         Traceback (most recent call last)",
      "Cell \u001B[1;32mIn[23], line 54\u001B[0m\n\u001B[0;32m     52\u001B[0m policy \u001B[38;5;241m=\u001B[39m \u001B[38;5;241m1\u001B[39m \u001B[38;5;241m*\u001B[39m np\u001B[38;5;241m.\u001B[39mones((\u001B[38;5;241m10\u001B[39m, \u001B[38;5;241m10\u001B[39m), dtype\u001B[38;5;241m=\u001B[39m\u001B[38;5;28mint\u001B[39m)\n\u001B[0;32m     53\u001B[0m policy \u001B[38;5;241m=\u001B[39m make_policy_valid(policy)\n\u001B[1;32m---> 54\u001B[0m V \u001B[38;5;241m=\u001B[39m \u001B[43mpolicy_evaluation\u001B[49m\u001B[43m(\u001B[49m\u001B[43mpolicy\u001B[49m\u001B[43m,\u001B[49m\u001B[43m \u001B[49m\u001B[43mstate_reward_map\u001B[49m\u001B[43m,\u001B[49m\u001B[43m \u001B[49m\u001B[43maction_reward_map\u001B[49m\u001B[43m)\u001B[49m\n\u001B[0;32m     55\u001B[0m \u001B[38;5;28mprint\u001B[39m(V[map_x_y_to_state(\u001B[38;5;241m1\u001B[39m,\u001B[38;5;241m3\u001B[39m)], V[map_x_y_to_state(\u001B[38;5;241m3\u001B[39m,\u001B[38;5;241m1\u001B[39m)], V[map_x_y_to_state(\u001B[38;5;241m8\u001B[39m,\u001B[38;5;241m1\u001B[39m)])\n\u001B[0;32m     57\u001B[0m \u001B[38;5;66;03m# Convert V to a 10x10 matrix for visualization\u001B[39;00m\n\u001B[0;32m     58\u001B[0m \u001B[38;5;66;03m# Be careful that the origin is in the bottom-left corner\u001B[39;00m\n",
      "Cell \u001B[1;32mIn[23], line 41\u001B[0m, in \u001B[0;36mpolicy_evaluation\u001B[1;34m(policy, state_reward_map, action_reward_map, gamma, theta)\u001B[0m\n\u001B[0;32m     39\u001B[0m     V \u001B[38;5;241m=\u001B[39m V \u001B[38;5;241m/\u001B[39m (iteration \u001B[38;5;241m+\u001B[39m \u001B[38;5;241m1\u001B[39m)\n\u001B[0;32m     40\u001B[0m     V_vis \u001B[38;5;241m=\u001B[39m V\u001B[38;5;241m.\u001B[39mreshape(\u001B[38;5;241m10\u001B[39m, \u001B[38;5;241m10\u001B[39m)\n\u001B[1;32m---> 41\u001B[0m     \u001B[38;5;28;01mif\u001B[39;00m \u001B[43mnp\u001B[49m\u001B[38;5;241m.\u001B[39mmax(np\u001B[38;5;241m.\u001B[39mabs(V \u001B[38;5;241m-\u001B[39m V_prev)) \u001B[38;5;241m<\u001B[39m theta:\n\u001B[0;32m     42\u001B[0m         \u001B[38;5;28;01mbreak\u001B[39;00m\n\u001B[0;32m     44\u001B[0m \u001B[38;5;66;03m# print(f'Policy evaluated in {iteration} iterations')\u001B[39;00m\n",
      "Cell \u001B[1;32mIn[23], line 41\u001B[0m, in \u001B[0;36mpolicy_evaluation\u001B[1;34m(policy, state_reward_map, action_reward_map, gamma, theta)\u001B[0m\n\u001B[0;32m     39\u001B[0m     V \u001B[38;5;241m=\u001B[39m V \u001B[38;5;241m/\u001B[39m (iteration \u001B[38;5;241m+\u001B[39m \u001B[38;5;241m1\u001B[39m)\n\u001B[0;32m     40\u001B[0m     V_vis \u001B[38;5;241m=\u001B[39m V\u001B[38;5;241m.\u001B[39mreshape(\u001B[38;5;241m10\u001B[39m, \u001B[38;5;241m10\u001B[39m)\n\u001B[1;32m---> 41\u001B[0m     \u001B[38;5;28;01mif\u001B[39;00m \u001B[43mnp\u001B[49m\u001B[38;5;241m.\u001B[39mmax(np\u001B[38;5;241m.\u001B[39mabs(V \u001B[38;5;241m-\u001B[39m V_prev)) \u001B[38;5;241m<\u001B[39m theta:\n\u001B[0;32m     42\u001B[0m         \u001B[38;5;28;01mbreak\u001B[39;00m\n\u001B[0;32m     44\u001B[0m \u001B[38;5;66;03m# print(f'Policy evaluated in {iteration} iterations')\u001B[39;00m\n",
      "File \u001B[1;32m_pydevd_bundle\\pydevd_cython_win32_38_64.pyx:1187\u001B[0m, in \u001B[0;36m_pydevd_bundle.pydevd_cython_win32_38_64.SafeCallWrapper.__call__\u001B[1;34m()\u001B[0m\n",
      "File \u001B[1;32m_pydevd_bundle\\pydevd_cython_win32_38_64.pyx:627\u001B[0m, in \u001B[0;36m_pydevd_bundle.pydevd_cython_win32_38_64.PyDBFrame.trace_dispatch\u001B[1;34m()\u001B[0m\n",
      "File \u001B[1;32m_pydevd_bundle\\pydevd_cython_win32_38_64.pyx:937\u001B[0m, in \u001B[0;36m_pydevd_bundle.pydevd_cython_win32_38_64.PyDBFrame.trace_dispatch\u001B[1;34m()\u001B[0m\n",
      "File \u001B[1;32m_pydevd_bundle\\pydevd_cython_win32_38_64.pyx:928\u001B[0m, in \u001B[0;36m_pydevd_bundle.pydevd_cython_win32_38_64.PyDBFrame.trace_dispatch\u001B[1;34m()\u001B[0m\n",
      "File \u001B[1;32m_pydevd_bundle\\pydevd_cython_win32_38_64.pyx:585\u001B[0m, in \u001B[0;36m_pydevd_bundle.pydevd_cython_win32_38_64.PyDBFrame.do_wait_suspend\u001B[1;34m()\u001B[0m\n",
      "File \u001B[1;32mD:\\Program Files\\JetBrains\\PyCharm 2023.3.4\\plugins\\python\\helpers\\pydev\\pydevd.py:1184\u001B[0m, in \u001B[0;36mPyDB.do_wait_suspend\u001B[1;34m(self, thread, frame, event, arg, send_suspend_message, is_unhandled_exception)\u001B[0m\n\u001B[0;32m   1181\u001B[0m         from_this_thread\u001B[38;5;241m.\u001B[39mappend(frame_id)\n\u001B[0;32m   1183\u001B[0m \u001B[38;5;28;01mwith\u001B[39;00m \u001B[38;5;28mself\u001B[39m\u001B[38;5;241m.\u001B[39m_threads_suspended_single_notification\u001B[38;5;241m.\u001B[39mnotify_thread_suspended(thread_id, stop_reason):\n\u001B[1;32m-> 1184\u001B[0m     \u001B[38;5;28;43mself\u001B[39;49m\u001B[38;5;241;43m.\u001B[39;49m\u001B[43m_do_wait_suspend\u001B[49m\u001B[43m(\u001B[49m\u001B[43mthread\u001B[49m\u001B[43m,\u001B[49m\u001B[43m \u001B[49m\u001B[43mframe\u001B[49m\u001B[43m,\u001B[49m\u001B[43m \u001B[49m\u001B[43mevent\u001B[49m\u001B[43m,\u001B[49m\u001B[43m \u001B[49m\u001B[43marg\u001B[49m\u001B[43m,\u001B[49m\u001B[43m \u001B[49m\u001B[43msuspend_type\u001B[49m\u001B[43m,\u001B[49m\u001B[43m \u001B[49m\u001B[43mfrom_this_thread\u001B[49m\u001B[43m)\u001B[49m\n",
      "File \u001B[1;32mD:\\Program Files\\JetBrains\\PyCharm 2023.3.4\\plugins\\python\\helpers\\pydev\\pydevd.py:1199\u001B[0m, in \u001B[0;36mPyDB._do_wait_suspend\u001B[1;34m(self, thread, frame, event, arg, suspend_type, from_this_thread)\u001B[0m\n\u001B[0;32m   1196\u001B[0m             \u001B[38;5;28mself\u001B[39m\u001B[38;5;241m.\u001B[39m_call_mpl_hook()\n\u001B[0;32m   1198\u001B[0m         \u001B[38;5;28mself\u001B[39m\u001B[38;5;241m.\u001B[39mprocess_internal_commands()\n\u001B[1;32m-> 1199\u001B[0m         \u001B[43mtime\u001B[49m\u001B[38;5;241;43m.\u001B[39;49m\u001B[43msleep\u001B[49m\u001B[43m(\u001B[49m\u001B[38;5;241;43m0.01\u001B[39;49m\u001B[43m)\u001B[49m\n\u001B[0;32m   1201\u001B[0m \u001B[38;5;28mself\u001B[39m\u001B[38;5;241m.\u001B[39mcancel_async_evaluation(get_current_thread_id(thread), \u001B[38;5;28mstr\u001B[39m(\u001B[38;5;28mid\u001B[39m(frame)))\n\u001B[0;32m   1203\u001B[0m \u001B[38;5;66;03m# process any stepping instructions\u001B[39;00m\n",
      "\u001B[1;31mKeyboardInterrupt\u001B[0m: "
     ]
    }
   ],
   "source": [
    "def policy_evaluation(policy, state_reward_map, action_reward_map, gamma=0.9, theta=1e-5):\n",
    "    \"\"\"\n",
    "    Evaluate a policy given an environment and a full description of the environment's dynamics.\n",
    "    \n",
    "    Args:\n",
    "        policy: [(10,10) numpy array] The policy to evaluate, where policy[x, y] gives the action to take at position (x, y).\n",
    "        transition_matrix: [(100,100) numpy array] State transition probabilities for each action.\n",
    "        state_reward_map: [(100,) numpy array] Immediate rewards for all states.\n",
    "        action_cost_map: [(100,100) numpy array] The cost of taking an action from state i to state j. NO LONGER NEEDED\n",
    "        gamma: float, Discount factor.\n",
    "        theta: float, A threshold of change for the value function to determine convergence.\n",
    "        \n",
    "    Returns:\n",
    "        V: (100,) numpy array, The value for each state under the specified policy.\n",
    "    \"\"\"\n",
    "    V = np.zeros(100)  # Initialize state-value function with zeros for each state\n",
    "    V_vis = V.reshape(10, 10)\n",
    "\n",
    "    obstacle_coords = [[9, 9], [8, 9], [7, 9], [6, 9], [5, 9], [4, 9], [3, 9], [2, 9], [1, 9], [0, 9], [9, 8], [9, 7],\n",
    "                       [9, 6], [9, 5], [9, 4], [9, 3], [9, 2], [9, 1], [9, 0], [0, 0], [1, 0], [2, 0], [3, 0], [4, 0],\n",
    "                       [5, 0], [6, 0], [7, 0], [8, 0], [9, 0], [0, 1], [0, 2], [0, 3], [0, 4], [0, 5], [0, 6], [0, 7],\n",
    "                       [0, 8], [0, 9], [3, 2], [4, 2], [5, 2], [6, 2], [4, 4], [4, 5], [4, 6], [4, 7], [5, 7], [7, 4],\n",
    "                       [7, 5]]\n",
    "    goal_coords = [[8, 1]]\n",
    "    obstacle_states = [map_x_y_to_state(cell[0], cell[1]) for cell in obstacle_coords]\n",
    "    goal_states = [map_x_y_to_state(cell[0], cell[1]) for cell in goal_coords]\n",
    "    \n",
    "    transition_matrix = get_transition_matrix(policy)\n",
    "\n",
    "    for iteration in range(1000):\n",
    "        V_prev = deepcopy(V)\n",
    "        for s in range(100):\n",
    "            # Skip the obstacle and goal states\n",
    "            if s in obstacle_states or s in goal_states:\n",
    "                V[s] += state_reward_map[s]\n",
    "                continue\n",
    "            for s_prime in range(100):\n",
    "                V[s] += transition_matrix[s, s_prime] * (state_reward_map[s_prime] + action_reward_map[s, s_prime] + gamma * V_prev[s_prime])\n",
    "        V = V / (iteration + 1)\n",
    "        V_vis = V.reshape(10, 10)\n",
    "        if np.max(np.abs(V - V_prev)) < theta:\n",
    "            break\n",
    "\n",
    "    # print(f'Policy evaluated in {iteration} iterations')\n",
    "    return V\n",
    "    \n",
    "\n",
    "test_flag = True\n",
    "if test_flag:\n",
    "    # Test policy_evaluation\n",
    "    # Initialize a static policy\n",
    "    policy = 1 * np.ones((10, 10), dtype=int)\n",
    "    policy = make_policy_valid(policy)\n",
    "    V = policy_evaluation(policy, state_reward_map, action_reward_map)\n",
    "    print(V[map_x_y_to_state(1,3)], V[map_x_y_to_state(3,1)], V[map_x_y_to_state(8,1)])\n",
    "    \n",
    "    # Convert V to a 10x10 matrix for visualization\n",
    "    # Be careful that the origin is in the bottom-left corner\n",
    "    V_2D = V.reshape(10, 10)\n",
    "    print(\"V-2D: \")\n",
    "    np.set_printoptions(precision=2)\n",
    "    print(V_2D)\n",
    "    \n",
    "    # Visualize the value function\n",
    "    # V[map_x_y_to_state(8, 1)] = 100  # Use this to indentify the goal state\n",
    "    plt.figure(figsize=(5, 5))\n",
    "    plt.imshow(V_2D, cmap='cividis', origin='lower')\n",
    "    plt.colorbar()\n",
    "    plt.title('Value function for Given Policy')\n",
    "    plt.xticks(range(10))\n",
    "    plt.yticks(range(10))\n",
    "    plt.xlabel('X axis')\n",
    "    plt.ylabel('Y axis')\n",
    "    plt.show()\n"
   ]
  },
  {
   "cell_type": "code",
   "execution_count": 89,
   "id": "664dc700469b8131",
   "metadata": {
    "collapsed": false,
    "ExecuteTime": {
     "end_time": "2024-04-05T01:39:01.795074Z",
     "start_time": "2024-04-05T01:39:01.782249Z"
    }
   },
   "outputs": [],
   "source": [
    "\n"
   ]
  },
  {
   "cell_type": "code",
   "execution_count": 90,
   "id": "50c552cecec06e57",
   "metadata": {
    "collapsed": false,
    "ExecuteTime": {
     "end_time": "2024-04-05T01:39:01.810194Z",
     "start_time": "2024-04-05T01:39:01.797178Z"
    }
   },
   "outputs": [],
   "source": [
    "def policy_improvement(V, policy, state_reward_map, action_cost_map, gamma=0.9):\n",
    "    \"\"\"\n",
    "    Improve a policy given the value function.\n",
    "    \n",
    "    Args:\n",
    "        V: [(100,) numpy array] The value for each state under the specified policy.\n",
    "        policy: [(10,10) numpy array] The policy to evaluate, where policy[x, y] gives the action to take at position (x, y).\n",
    "        transition_matrix: [(100,100) numpy array] State transition probabilities for each action.\n",
    "        state_reward_map: [(100,) numpy array] Immediate rewards for all states.\n",
    "        action_cost_map: [(100,100) numpy array] The cost of taking an action from state i to state j.\n",
    "        gamma: float, Discount factor.\n",
    "        \n",
    "    Returns:\n",
    "        policy: [10x10 numpy array] The improved policy.\n",
    "        policy_stable: [bool] Whether the policy is stable.\n",
    "    \"\"\"\n",
    "    obstacle_coords = [[9, 9], [8, 9], [7, 9], [6, 9], [5, 9], [4, 9], [3, 9], [2, 9], [1, 9], [0, 9],\n",
    "                  [9, 8], [9, 7], [9, 6], [9, 5], [9, 4], [9, 3], [9, 2], [9, 1], [9, 0],\n",
    "                  [0, 0], [1, 0], [2, 0], [3, 0], [4, 0], [5, 0], [6, 0], [7, 0], [8, 0], [9, 0],\n",
    "                  [0, 1], [0, 2], [0, 3], [0, 4], [0, 5], [0, 6], [0, 7], [0, 8], [0, 9],\n",
    "                  [3, 2], [4, 2], [5, 2], [6, 2],\n",
    "                  [4, 4], [4, 5], [4, 6], [4, 7], [5, 7],\n",
    "                  [7, 4], [7, 5]]\n",
    "    goal_coords = [[8, 1]]\n",
    "    \n",
    "    obstacle_states = [map_x_y_to_state(cell[0], cell[1]) for cell in obstacle_coords]\n",
    "    goal_states = [map_x_y_to_state(cell[0], cell[1]) for cell in goal_coords]    \n",
    "    \n",
    "    transition_matrix = get_transition_matrix(policy)\n",
    "    \n",
    "    policy_stable = True  # Initialize policy_stable to True\n",
    "\n",
    "    ## For debugging\n",
    "    V_visual = V.reshape(10, 10)\n",
    "    \n",
    "    for s in range(100):\n",
    "        # Skip the obstacle and goal states\n",
    "        if s in obstacle_states or s in goal_states:\n",
    "            policy[s % 10, s // 10] = -1\n",
    "            continue\n",
    "        \n",
    "        # For all normal states\n",
    "        # Convert state index to (x, y) coordinate\n",
    "        x, y = s % 10, s // 10\n",
    "        \n",
    "        # Initialize a variable to keep track of the best action value\n",
    "        best_action_value = -np.inf\n",
    "        best_action = None\n",
    "        \n",
    "        # Compare all possible actions to find the best one\n",
    "        # a = -1 (stay)\n",
    "        action_value = 0\n",
    "        for s_prime in range(100):\n",
    "            action_value += transition_matrix[s, s_prime] * (state_reward_map[s_prime] + action_cost_map[s, s_prime] + gamma * V[s_prime])\n",
    "        if action_value > best_action_value:\n",
    "            best_action_value = action_value\n",
    "            best_action = -1\n",
    "\n",
    "        # a = 0 (N)\n",
    "        action_value = 0\n",
    "        if y < 9:\n",
    "            s_prime = s + 10\n",
    "            action_value += transition_matrix[s, s_prime] * (state_reward_map[s_prime] + action_cost_map[s, s_prime] + gamma * V[s_prime])\n",
    "        else:\n",
    "            action_value += transition_matrix[s, s] * (state_reward_map[s] + action_cost_map[s, s] + gamma * V[s])\n",
    "        if action_value > best_action_value:\n",
    "            best_action_value = action_value\n",
    "            best_action = 0\n",
    "\n",
    "        # a = 1 (E)\n",
    "        action_value = 0\n",
    "        if x < 9:\n",
    "            s_prime = s + 1\n",
    "            action_value += transition_matrix[s, s_prime] * (state_reward_map[s_prime] + action_cost_map[s, s_prime] + gamma * V[s_prime])\n",
    "        else:\n",
    "            action_value += transition_matrix[s, s] * (state_reward_map[s] + action_cost_map[s, s] + gamma * V[s])\n",
    "        if action_value > best_action_value:\n",
    "            best_action_value = action_value\n",
    "            best_action = 1\n",
    "\n",
    "        # a = 2 (S)\n",
    "        action_value = 0\n",
    "        if y > 0:\n",
    "            s_prime = s - 10\n",
    "            action_value += transition_matrix[s, s_prime] * (state_reward_map[s_prime] + action_cost_map[s, s_prime] + gamma * V[s_prime])\n",
    "        else:\n",
    "            action_value += transition_matrix[s, s] * (state_reward_map[s] + action_cost_map[s, s] + gamma * V[s])\n",
    "        if action_value > best_action_value:\n",
    "            best_action_value = action_value\n",
    "            best_action = 2\n",
    "\n",
    "        # a = 3 (W)\n",
    "        action_value = 0\n",
    "        if x > 0:\n",
    "            s_prime = s - 1\n",
    "            action_value += transition_matrix[s, s_prime] * (state_reward_map[s_prime] + action_cost_map[s, s_prime] + gamma * V[s_prime])\n",
    "        else:\n",
    "            action_value += transition_matrix[s, s] * (state_reward_map[s] + action_cost_map[s, s] + gamma * V[s])\n",
    "        if action_value > best_action_value:\n",
    "            best_action_value = action_value\n",
    "            best_action = 3\n",
    "\n",
    "        # Check if the found best action differs from the current policy\n",
    "        current_action = policy[x, y]\n",
    "        if best_action != current_action:\n",
    "            policy_stable = False\n",
    "            policy[x, y] = best_action  # Update the policy with the new best action\n",
    "\n",
    "    return policy, policy_stable"
   ]
  },
  {
   "cell_type": "code",
   "execution_count": 91,
   "id": "a5614b16da21f56e",
   "metadata": {
    "collapsed": false,
    "ExecuteTime": {
     "end_time": "2024-04-05T01:39:01.839279Z",
     "start_time": "2024-04-05T01:39:01.811298Z"
    }
   },
   "outputs": [],
   "source": [
    "def policy_iteration(policy, state_reward_map, action_cost_map, gamma=0.9, theta=1e-4, save_for_vis=False, max_iter=100):\n",
    "    \"\"\"\n",
    "    Perform policy iteration to find the optimal policy.\n",
    "    \n",
    "    Args:\n",
    "        policy: [10x10 numpy array] The initial policy to evaluate.\n",
    "        state_reward_map: [numpy array] Immediate rewards for all states.\n",
    "        gamma: float, Discount factor.\n",
    "        theta: float, A threshold of change for the value function to determine convergence.\n",
    "        \n",
    "    Returns:\n",
    "        policy: [10x10 numpy array] The optimal policy.\n",
    "    \"\"\"\n",
    "    policy_stable = False  # Initialize policy_stable to False\n",
    "    \n",
    "    # We want to save the evaluation and improvement results in the first 5 iterations and the last iteration\n",
    "    # This is to visualize the policy improvement process\n",
    "    V_list = []\n",
    "    policy_list = []\n",
    "    iteration = 0\n",
    "    while iteration < max_iter:\n",
    "        \n",
    "        if iteration % 10 == 0:\n",
    "            print(f'Policy iteration in progress, iteration {iteration}')\n",
    "        \n",
    "        iteration += 1\n",
    "        V = policy_evaluation(policy, state_reward_map, action_cost_map, gamma, theta)\n",
    "        policy, policy_stable = policy_improvement(V, policy, state_reward_map, action_cost_map, gamma)\n",
    "        # policy = make_policy_valid(policy)\n",
    "        if iteration <= 5 or policy_stable:\n",
    "            V_list.append(V)\n",
    "            policy_list.append(policy)\n",
    "        if policy_stable:\n",
    "            break\n",
    "            \n",
    "    print(f'Policy iteration converged in {iteration} iterations')\n",
    "    \n",
    "    if save_for_vis:\n",
    "        return policy, policy_stable, V_list, policy_list\n",
    "    else:\n",
    "        return policy, policy_stable\n",
    "    "
   ]
  },
  {
   "cell_type": "code",
   "execution_count": 92,
   "id": "58b3d17ff9d7af1d",
   "metadata": {
    "collapsed": false,
    "ExecuteTime": {
     "end_time": "2024-04-05T01:39:06.158256Z",
     "start_time": "2024-04-05T01:39:01.839279Z"
    }
   },
   "outputs": [
    {
     "name": "stdout",
     "output_type": "stream",
     "text": [
      "Policy iteration in progress, iteration 0\n",
      "Policy iteration in progress, iteration 10\n"
     ]
    },
    {
     "ename": "KeyboardInterrupt",
     "evalue": "",
     "output_type": "error",
     "traceback": [
      "\u001B[1;31m---------------------------------------------------------------------------\u001B[0m",
      "\u001B[1;31mKeyboardInterrupt\u001B[0m                         Traceback (most recent call last)",
      "Cell \u001B[1;32mIn[92], line 6\u001B[0m\n\u001B[0;32m      4\u001B[0m policy \u001B[38;5;241m=\u001B[39m make_policy_valid(policy)\n\u001B[0;32m      5\u001B[0m transition_matrix \u001B[38;5;241m=\u001B[39m get_transition_matrix(policy)\n\u001B[1;32m----> 6\u001B[0m policy, convergence \u001B[38;5;241m=\u001B[39m \u001B[43mpolicy_iteration\u001B[49m\u001B[43m(\u001B[49m\u001B[43mpolicy\u001B[49m\u001B[43m,\u001B[49m\u001B[43m \u001B[49m\u001B[43mstate_reward_map\u001B[49m\u001B[43m,\u001B[49m\u001B[43m \u001B[49m\u001B[43maction_reward_map\u001B[49m\u001B[43m)\u001B[49m\n\u001B[0;32m      7\u001B[0m \u001B[38;5;28mprint\u001B[39m(\u001B[38;5;124m\"\u001B[39m\u001B[38;5;124mConverged =\u001B[39m\u001B[38;5;124m\"\u001B[39m, convergence)\n\u001B[0;32m      8\u001B[0m \u001B[38;5;28mprint\u001B[39m(policy)\n",
      "Cell \u001B[1;32mIn[91], line 28\u001B[0m, in \u001B[0;36mpolicy_iteration\u001B[1;34m(policy, state_reward_map, action_cost_map, gamma, theta, save_for_vis, max_iter)\u001B[0m\n\u001B[0;32m     26\u001B[0m iteration \u001B[38;5;241m+\u001B[39m\u001B[38;5;241m=\u001B[39m \u001B[38;5;241m1\u001B[39m\n\u001B[0;32m     27\u001B[0m V \u001B[38;5;241m=\u001B[39m policy_evaluation(policy, state_reward_map, action_cost_map, gamma, theta)\n\u001B[1;32m---> 28\u001B[0m policy, policy_stable \u001B[38;5;241m=\u001B[39m \u001B[43mpolicy_improvement\u001B[49m\u001B[43m(\u001B[49m\u001B[43mV\u001B[49m\u001B[43m,\u001B[49m\u001B[43m \u001B[49m\u001B[43mpolicy\u001B[49m\u001B[43m,\u001B[49m\u001B[43m \u001B[49m\u001B[43mstate_reward_map\u001B[49m\u001B[43m,\u001B[49m\u001B[43m \u001B[49m\u001B[43maction_cost_map\u001B[49m\u001B[43m,\u001B[49m\u001B[43m \u001B[49m\u001B[43mgamma\u001B[49m\u001B[43m)\u001B[49m\n\u001B[0;32m     29\u001B[0m \u001B[38;5;66;03m# policy = make_policy_valid(policy)\u001B[39;00m\n\u001B[0;32m     30\u001B[0m \u001B[38;5;28;01mif\u001B[39;00m iteration \u001B[38;5;241m<\u001B[39m\u001B[38;5;241m=\u001B[39m \u001B[38;5;241m5\u001B[39m \u001B[38;5;129;01mor\u001B[39;00m policy_stable:\n",
      "Cell \u001B[1;32mIn[90], line 29\u001B[0m, in \u001B[0;36mpolicy_improvement\u001B[1;34m(V, policy, state_reward_map, action_cost_map, gamma)\u001B[0m\n\u001B[0;32m     26\u001B[0m obstacle_states \u001B[38;5;241m=\u001B[39m [map_x_y_to_state(cell[\u001B[38;5;241m0\u001B[39m], cell[\u001B[38;5;241m1\u001B[39m]) \u001B[38;5;28;01mfor\u001B[39;00m cell \u001B[38;5;129;01min\u001B[39;00m obstacle_coords]\n\u001B[0;32m     27\u001B[0m goal_states \u001B[38;5;241m=\u001B[39m [map_x_y_to_state(cell[\u001B[38;5;241m0\u001B[39m], cell[\u001B[38;5;241m1\u001B[39m]) \u001B[38;5;28;01mfor\u001B[39;00m cell \u001B[38;5;129;01min\u001B[39;00m goal_coords]    \n\u001B[1;32m---> 29\u001B[0m transition_matrix \u001B[38;5;241m=\u001B[39m \u001B[43mget_transition_matrix\u001B[49m\u001B[43m(\u001B[49m\u001B[43mpolicy\u001B[49m\u001B[43m)\u001B[49m\n\u001B[0;32m     31\u001B[0m policy_stable \u001B[38;5;241m=\u001B[39m \u001B[38;5;28;01mTrue\u001B[39;00m  \u001B[38;5;66;03m# Initialize policy_stable to True\u001B[39;00m\n\u001B[0;32m     33\u001B[0m \u001B[38;5;66;03m## For debugging\u001B[39;00m\n",
      "Cell \u001B[1;32mIn[85], line 38\u001B[0m, in \u001B[0;36mget_transition_matrix\u001B[1;34m(policy)\u001B[0m\n\u001B[0;32m     35\u001B[0m move_m1_prob \u001B[38;5;241m=\u001B[39m \u001B[38;5;241m0.1\u001B[39m\n\u001B[0;32m     36\u001B[0m stay_prob \u001B[38;5;241m=\u001B[39m \u001B[38;5;241m0.1\u001B[39m\n\u001B[1;32m---> 38\u001B[0m T \u001B[38;5;241m=\u001B[39m \u001B[43mnp\u001B[49m\u001B[38;5;241;43m.\u001B[39;49m\u001B[43mzeros\u001B[49m\u001B[43m(\u001B[49m\u001B[43m(\u001B[49m\u001B[43mgrid_len\u001B[49m\u001B[43m \u001B[49m\u001B[38;5;241;43m*\u001B[39;49m\u001B[38;5;241;43m*\u001B[39;49m\u001B[43m \u001B[49m\u001B[38;5;241;43m2\u001B[39;49m\u001B[43m,\u001B[49m\u001B[43m \u001B[49m\u001B[43mgrid_len\u001B[49m\u001B[43m \u001B[49m\u001B[38;5;241;43m*\u001B[39;49m\u001B[38;5;241;43m*\u001B[39;49m\u001B[43m \u001B[49m\u001B[38;5;241;43m2\u001B[39;49m\u001B[43m)\u001B[49m\u001B[43m,\u001B[49m\u001B[43m \u001B[49m\u001B[43mdtype\u001B[49m\u001B[38;5;241;43m=\u001B[39;49m\u001B[38;5;28;43mfloat\u001B[39;49m\u001B[43m)\u001B[49m\n\u001B[0;32m     39\u001B[0m \u001B[38;5;28;01mfor\u001B[39;00m i \u001B[38;5;129;01min\u001B[39;00m \u001B[38;5;28mrange\u001B[39m(grid_len):  \u001B[38;5;66;03m# x\u001B[39;00m\n\u001B[0;32m     40\u001B[0m     \u001B[38;5;28;01mfor\u001B[39;00m j \u001B[38;5;129;01min\u001B[39;00m \u001B[38;5;28mrange\u001B[39m(grid_len):  \u001B[38;5;66;03m# y\u001B[39;00m\n",
      "\u001B[1;31mKeyboardInterrupt\u001B[0m: "
     ]
    }
   ],
   "source": [
    "# Test policy_iteration\n",
    "# Initialize the policy where the agent always moves N, i.e., policy[x, y] = 1 for all non-obstacle/goal cells\n",
    "policy = 1 * np.ones((10, 10), dtype=int)\n",
    "policy = make_policy_valid(policy)\n",
    "transition_matrix = get_transition_matrix(policy)\n",
    "policy, convergence = policy_iteration(policy, state_reward_map, action_reward_map)\n",
    "print(\"Converged =\", convergence)\n",
    "print(policy)\n"
   ]
  },
  {
   "cell_type": "code",
   "execution_count": null,
   "id": "8ab933fe09f7cdd6",
   "metadata": {
    "collapsed": false,
    "ExecuteTime": {
     "end_time": "2024-04-05T01:39:06.160516Z",
     "start_time": "2024-04-05T01:39:06.160516Z"
    }
   },
   "outputs": [],
   "source": [
    "# Visualize the policy using arrows\n",
    "# The origin is in the bottom-left corner\n",
    "# The arrows are in the same direction as the action\n",
    "# The arrows are in the center of the cell\n",
    "# No arrow is shown for obstacle cells and goal cells\n",
    "plt.figure(figsize=(5, 5))\n",
    "plt.imshow(V_2D, cmap='cividis', origin='lower')\n",
    "plt.colorbar()\n",
    "plt.title('Optimal Policy')\n",
    "plt.xticks(range(10))\n",
    "plt.yticks(range(10))\n",
    "plt.xlabel('X axis')\n",
    "plt.ylabel('Y axis')\n",
    "# policy[3, 7] = 3  # Use this to see if the policy is correctly visualized at desired coordinates\n",
    "for y in range(10):\n",
    "    for x in range(10):\n",
    "        if [x, y] in obstacle_coords or [x, y] in goal_coords:\n",
    "            continue\n",
    "        if policy[x, y] == 0:  # N\n",
    "            plt.arrow(x, y, 0, 0.4, head_width=0.1, head_length=0.1, fc='r', ec='r')\n",
    "        elif policy[x, y] == 1:  # E\n",
    "            plt.arrow(x, y, 0.4, 0, head_width=0.1, head_length=0.1, fc='r', ec='r')\n",
    "        elif policy[x, y] == 2:  # S\n",
    "            plt.arrow(x, y, 0, -0.4, head_width=0.1, head_length=0.1, fc='r', ec='r')\n",
    "        elif policy[x, y] == 3:  # W\n",
    "            plt.arrow(x, y, -0.4, 0, head_width=0.1, head_length=0.1, fc='r', ec='r')\n",
    "plt.show()\n"
   ]
  },
  {
   "cell_type": "code",
   "execution_count": null,
   "id": "e85f2b37213aa88",
   "metadata": {
    "collapsed": false,
    "ExecuteTime": {
     "start_time": "2024-04-05T01:39:06.161577Z"
    }
   },
   "outputs": [],
   "source": []
  }
 ],
 "metadata": {
  "kernelspec": {
   "display_name": "Python 3 (ipykernel)",
   "language": "python",
   "name": "python3"
  },
  "language_info": {
   "codemirror_mode": {
    "name": "ipython",
    "version": 3
   },
   "file_extension": ".py",
   "mimetype": "text/x-python",
   "name": "python",
   "nbconvert_exporter": "python",
   "pygments_lexer": "ipython3",
   "version": "3.8.10"
  }
 },
 "nbformat": 4,
 "nbformat_minor": 5
}
