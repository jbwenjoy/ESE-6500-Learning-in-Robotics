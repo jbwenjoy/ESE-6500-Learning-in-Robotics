{
 "cells": [
  {
   "cell_type": "code",
   "execution_count": 15,
   "id": "initial_id",
   "metadata": {
    "collapsed": true,
    "jupyter": {
     "outputs_hidden": true
    },
    "ExecuteTime": {
     "end_time": "2024-04-04T22:10:06.210046Z",
     "start_time": "2024-04-04T22:10:06.206796Z"
    }
   },
   "outputs": [],
   "source": [
    "import numpy as np\n",
    "import matplotlib.pyplot as plt\n",
    "from copy import deepcopy\n"
   ]
  },
  {
   "cell_type": "code",
   "execution_count": 34,
   "id": "7c1471b7a336aabf",
   "metadata": {
    "collapsed": false,
    "ExecuteTime": {
     "end_time": "2024-04-04T22:18:25.479817Z",
     "start_time": "2024-04-04T22:18:25.471286Z"
    }
   },
   "outputs": [],
   "source": [
    "# Create the 10x10 grid map\n",
    "# note that (0,0) is in the bottom-left corner\n",
    "# the map is stored as a 1D list\n",
    "# the cell (x,y) is indexed as [x+y*10] for x in [0,9] and y in [0,9]\n",
    "# x is the horizontal axis, y is the vertical axis\n",
    "# so the index looks like: \n",
    "#\n",
    "# 90 91 92 93 94 95 96 97 98 99\n",
    "# 80 81 82 83 84 85 86 87 88 89\n",
    "# ...\n",
    "# 10 11 12 13 14 15 16 17 18 19\n",
    "# 00 01 02 03 04 05 06 07 08 09\n",
    "#\n",
    "# each element is a number storing the reward for ending up in that cell\n",
    "\n",
    "# Create the map\n",
    "state_reward_map = -np.ones(10 ** 2, dtype=int)\n",
    "\n",
    "# Abot special grids: \n",
    "# If the agent enters an obstacle cell, it will always stay there, won't be able to move\n",
    "# If the agent enters a goal cell, it will always stay and receive the goal state reward at every time step\n",
    "\n",
    "# Define the rewards of special grids\n",
    "# The obstacle cells are [[9, 9], [8, 9], [7, 9], [6, 9], [5, 9], [4, 9], [3, 9], [2, 9], [1, 9], [0, 9],\n",
    "# [9, 8], [9, 7], [9, 6], [9, 5], [9, 4], [9, 3], [9, 2], [9, 1], [9, 0],\n",
    "# [0, 0], [1, 0], [2, 0], [3, 0], [4, 0], [5, 0], [6, 0], [7, 0], [8, 0], [9, 0],\n",
    "# [0, 1], [0, 2], [0, 3], [0, 4], [0, 5], [0, 6], [0, 7], [0, 8], [0, 9],\n",
    "# [3, 2], [4, 2], [5, 2], [6, 2],\n",
    "# [4, 4], [4, 5], [4, 6], [4, 7], [5, 7],\n",
    "# [7, 4], [7, 5]]\n",
    "# Ending up in an obstacle cell receives a reward of -10 every time step\n",
    "obstacle_coords = [[9, 9], [8, 9], [7, 9], [6, 9], [5, 9], [4, 9], [3, 9], [2, 9], [1, 9], [0, 9],\n",
    "                  [9, 8], [9, 7], [9, 6], [9, 5], [9, 4], [9, 3], [9, 2], [9, 1], [9, 0],\n",
    "                  [0, 0], [1, 0], [2, 0], [3, 0], [4, 0], [5, 0], [6, 0], [7, 0], [8, 0], [9, 0],\n",
    "                  [0, 1], [0, 2], [0, 3], [0, 4], [0, 5], [0, 6], [0, 7], [0, 8], [0, 9],\n",
    "                  [3, 2], [4, 2], [5, 2], [6, 2],\n",
    "                  [4, 4], [4, 5], [4, 6], [4, 7], [5, 7],\n",
    "                  [7, 4], [7, 5]]\n",
    "for cell in obstacle_coords:\n",
    "    state_reward_map[cell[0] + cell[1] * 10] = -10\n",
    "\n",
    "# Define the goal cells\n",
    "goal_coords = [[8, 1]]\n",
    "# Ending up in a goal cell receives a reward of 10 every time step\n",
    "for cell in goal_coords:\n",
    "    state_reward_map[cell[0] + cell[1] * 10] = 10\n",
    "    \n",
    "# Define the origin cells\n",
    "origin_1_coords = [[1, 1]]\n",
    "origin_2_coords = [[3, 6]]\n"
   ]
  },
  {
   "cell_type": "code",
   "execution_count": 35,
   "id": "e8953bdf4d511e4d",
   "metadata": {
    "collapsed": false,
    "ExecuteTime": {
     "end_time": "2024-04-04T22:18:27.128001Z",
     "start_time": "2024-04-04T22:18:26.972529Z"
    }
   },
   "outputs": [
    {
     "name": "stdout",
     "output_type": "stream",
     "text": [
      "The reward map:\n",
      "[-10 -10 -10 -10 -10 -10 -10 -10 -10 -10]\n",
      "[-10  -1  -1  -1  -1  -1  -1  -1  10 -10]\n",
      "[-10  -1  -1 -10 -10 -10 -10  -1  -1 -10]\n",
      "[-10  -1  -1  -1  -1  -1  -1  -1  -1 -10]\n",
      "[-10  -1  -1  -1 -10  -1  -1 -10  -1 -10]\n",
      "[-10  -1  -1  -1 -10  -1  -1 -10  -1 -10]\n",
      "[-10  -1  -1  -1 -10  -1  -1  -1  -1 -10]\n",
      "[-10  -1  -1  -1 -10 -10  -1  -1  -1 -10]\n",
      "[-10  -1  -1  -1  -1  -1  -1  -1  -1 -10]\n",
      "[-10 -10 -10 -10 -10 -10 -10 -10 -10 -10]\n"
     ]
    },
    {
     "data": {
      "text/plain": "<Figure size 500x500 with 2 Axes>",
      "image/png": "[encoded data removed]"
     },
     "metadata": {},
     "output_type": "display_data"
    }
   ],
   "source": [
    "# Test the reward map\n",
    "print(\"The reward map:\")\n",
    "for i in range(10):\n",
    "    print(state_reward_map[i*10:i*10+10])\n",
    "\n",
    "plt.figure(figsize=(5, 5))\n",
    "plt.imshow(state_reward_map.reshape(10, 10), cmap='cividis', origin='lower')\n",
    "plt.colorbar()\n",
    "plt.title('The reward map')\n",
    "plt.show()\n",
    "\n",
    "# We can see that the map is stored upside down, the origin is in the bottom-left corner\n",
    "# But when displaying, we can just set the origin to 'lower' to display it correctly\n",
    "# So there is no need to manually flip the map"
   ]
  },
  {
   "cell_type": "code",
   "execution_count": 36,
   "id": "2117d0fb60ddb46c",
   "metadata": {
    "collapsed": false,
    "ExecuteTime": {
     "end_time": "2024-04-04T22:18:46.495797Z",
     "start_time": "2024-04-04T22:18:46.481009Z"
    }
   },
   "outputs": [],
   "source": [
    "def map_x_y_to_state(x, y):\n",
    "    return x + y * 10\n",
    "\n",
    "\n",
    "# def flat_map_to_2D_map(flat_map):\n",
    "#     \"\"\"\n",
    "#     Be very careful that the indexes are formulated like this\n",
    "#         [[90 91 92 93 94 95 96 97 98 99],\n",
    "#          [80 81 82 83 84 85 86 87 88 89],\n",
    "#          ...\n",
    "#          [10 11 12 13 14 15 16 17 18 19],\n",
    "#          [00 01 02 03 04 05 06 07 08 09]]\n",
    "#     \n",
    "#     :param flat_map: (100,) or (100,1) array\n",
    "#     :return: 2D array (10,10), for plotting\n",
    "#     \"\"\"\n",
    "#     # Check if the input is a 2D array, reshape to (100,) if necessary\n",
    "#     if len(flat_map.shape) == 2:\n",
    "#         flat_map = flat_map.reshape(-1)\n",
    "#         \n",
    "#     # Convert the flat map to a 2D map\n",
    "#     map_2d = np.zeros((10, 10))\n",
    "#     for i in range(10):\n",
    "#         for j in range(10):\n",
    "#             map_2d[j, i] = flat_map[i + j * 10]\n",
    "#     return map_2d   \n"
   ]
  },
  {
   "cell_type": "code",
   "execution_count": 40,
   "id": "192ffe20ac8515b1",
   "metadata": {
    "collapsed": false,
    "ExecuteTime": {
     "end_time": "2024-04-04T22:22:02.729854Z",
     "start_time": "2024-04-04T22:22:02.711723Z"
    }
   },
   "outputs": [],
   "source": [
    "test_flag = False\n",
    "\n",
    "if test_flag:\n",
    "    # Test flat_map_to_2D_map\n",
    "    # Try creating a map with the obstacles and the goal represented in 1D index\n",
    "    # We can first convert the above defined coordinates to 1D index\n",
    "    obstacle_coords_1D = [map_x_y_to_state(cell[0], cell[1]) for cell in obstacle_coords]\n",
    "    goal_coords_1D = [map_x_y_to_state(cell[0], cell[1]) for cell in goal_coords]\n",
    "    origin_1_coords_1D = [map_x_y_to_state(cell[0], cell[1]) for cell in origin_1_coords]\n",
    "    origin_2_coords_1D = [map_x_y_to_state(cell[0], cell[1]) for cell in origin_2_coords]\n",
    "    \n",
    "    # Mark the obstacles, goal, and origin cells\n",
    "    state_reward_map_1D_test = np.zeros(100)\n",
    "    for cell in obstacle_coords_1D:\n",
    "        state_reward_map_1D_test[cell] = -10\n",
    "    for cell in goal_coords_1D:\n",
    "        state_reward_map_1D_test[cell] = 10\n",
    "    for cell in origin_1_coords_1D:\n",
    "        state_reward_map_1D_test[cell] = 5\n",
    "    for cell in origin_2_coords_1D:\n",
    "        state_reward_map_1D_test[cell] = -5\n",
    "        \n",
    "    map_2d = state_reward_map_1D_test.reshape(10, 10)\n",
    "    \n",
    "    plt.figure(figsize=(5, 5))\n",
    "    plt.imshow(map_2d, cmap='cividis', origin='lower')\n",
    "    plt.colorbar()\n",
    "    plt.title('Obs, goal, and origins highlighted')\n",
    "    plt.show()\n"
   ]
  },
  {
   "cell_type": "code",
   "execution_count": 39,
   "id": "5286e60edf21570b",
   "metadata": {
    "collapsed": false,
    "ExecuteTime": {
     "end_time": "2024-04-04T22:19:52.798342Z",
     "start_time": "2024-04-04T22:19:52.788698Z"
    }
   },
   "outputs": [],
   "source": [
    "# Define the action list\n",
    "actions = {'stay': -1, 'N': 0, 'E': 1, 'S': 2, 'W': 3}\n"
   ]
  },
  {
   "cell_type": "code",
   "execution_count": 41,
   "id": "603a3d9d6a0c696e",
   "metadata": {
    "collapsed": false,
    "ExecuteTime": {
     "end_time": "2024-04-04T22:22:04.547362Z",
     "start_time": "2024-04-04T22:22:04.529176Z"
    }
   },
   "outputs": [],
   "source": [
    "# About the action rewards: \n",
    "# The robot is allowed to stay in the goal state indefinitely, and this stay action gets no reward/cost\n",
    "# When in obstacle cells, the robot is forced to stay with receiving reward -10, but no additional action cost\n",
    "# Taking actions at all other states (including stay), regardless of the outcome, receives a reward of -1\n"
   ]
  },
  {
   "cell_type": "code",
   "execution_count": 22,
   "id": "e278a1169d15ae4f",
   "metadata": {
    "collapsed": false,
    "ExecuteTime": {
     "end_time": "2024-04-04T22:10:06.651634Z",
     "start_time": "2024-04-04T22:10:06.637887Z"
    }
   },
   "outputs": [],
   "source": [
    "# About the action probabilities: \n",
    "# The agent moves in the intended direction with probability 0.7\n",
    "# The agent moves in the left/right of the intended direction with probability 0.1\n",
    "# The agent stays in the same cell with probability 0.1\n",
    "# The agent won't move to the opposite direction of the intended direction\n",
    "\n",
    "# Define a function to always make the policy matrix valid\n",
    "def make_policy_valid(policy):\n",
    "    \"\"\"\n",
    "    Make the policy matrix valid\n",
    "    :param policy: a 10x10 matrix, each element is an action, the action given by the policy only depend on the state (grid)\n",
    "    :return: a valid policy matrix\n",
    "    \"\"\"\n",
    "    \n",
    "    # Check if the policy matrix is 10x10\n",
    "    if policy.shape != (10, 10): raise ValueError('The policy matrix should be a 10x10 matrix')\n",
    "    # Each element should be an integer in [-1, 3]\n",
    "    if not np.all(np.isin(policy, [-1, 0, 1, 2, 3])): raise ValueError('Each element in the policy matrix should be an integer in [-1, 3]')\n",
    "    # Obstacle cells and goal cells should have no action\n",
    "    obstacle_coords = [[9, 9], [8, 9], [7, 9], [6, 9], [5, 9], [4, 9], [3, 9], [2, 9], [1, 9], [0, 9], [9, 8], [9, 7], [9, 6], [9, 5], [9, 4], [9, 3], [9, 2], [9, 1], [9, 0], [0, 0], [1, 0], [2, 0], [3, 0], [4, 0], [5, 0], [6, 0], [7, 0], [8, 0], [9, 0], [0, 1], [0, 2], [0, 3], [0, 4], [0, 5], [0, 6], [0, 7], [0, 8], [0, 9], [3, 2], [4, 2], [5, 2], [6, 2], [4, 4], [4, 5], [4, 6], [4, 7], [5, 7], [7, 4], [7, 5]]\n",
    "    goal_coords = [[8, 1]]\n",
    "    for cell in obstacle_coords + goal_coords:\n",
    "        policy[cell[1], cell[0]] = -1\n",
    "        \n",
    "    return policy\n",
    "            "
   ]
  },
  {
   "cell_type": "code",
   "execution_count": 23,
   "id": "1b770d8421ed1ac2",
   "metadata": {
    "collapsed": false,
    "ExecuteTime": {
     "end_time": "2024-04-04T22:10:06.667343Z",
     "start_time": "2024-04-04T22:10:06.653782Z"
    }
   },
   "outputs": [],
   "source": [
    "# Define the transition matrix\n",
    "# The transition matrix is a 100x100 matrix\n",
    "# Each row corresponds to a state\n",
    "# Each column corresponds to a possible next state\n",
    "# The element at [row, column] is the probability of transitioning from state \"row\" to state \"column\" with the intended action\n",
    "# The transition matrix is sparse (mostly zeros)\n",
    "\n",
    "# Compute the transition matrix depending on the policy\n",
    "def get_transition_matrix_old(policy):\n",
    "    \"\"\"\n",
    "    Compute the transition matrix depending on the policy\n",
    "    :param policy: a 10x10 matrix, each element is an action, the action given by the policy only depend on the state (grid)\n",
    "    :return: transition matrix, a 100x100 matrix, each element is the probability of transitioning from state \"row\" to state \"column\" with the intended action\n",
    "    \"\"\"\n",
    "    \n",
    "    # # Check if the policy matrix is valid: \n",
    "    # # 10x10\n",
    "    # if policy.shape != (10, 10):\n",
    "    #     raise ValueError('The policy matrix should be a 10x10 matrix')\n",
    "    # # Each element should be an integer in [-1, 3]\n",
    "    # if not np.all(np.isin(policy, [-1, 0, 1, 2, 3])):\n",
    "    #     raise ValueError('Each element in the policy matrix should be an integer in [-1, 3]')\n",
    "    # # Obstacle cells and goal cells should have no action\n",
    "    # obstacle_coords = [[9, 9], [8, 9], [7, 9], [6, 9], [5, 9], [4, 9], [3, 9], [2, 9], [1, 9], [0, 9], [9, 8], [9, 7], [9, 6], [9, 5], [9, 4], [9, 3], [9, 2], [9, 1], [9, 0], [0, 0], [1, 0], [2, 0], [3, 0], [4, 0], [5, 0], [6, 0], [7, 0], [8, 0], [9, 0], [0, 1], [0, 2], [0, 3], [0, 4], [0, 5], [0, 6], [0, 7], [0, 8], [0, 9], [3, 2], [4, 2], [5, 2], [6, 2], [4, 4], [4, 5], [4, 6], [4, 7], [5, 7], [7, 4], [7, 5]]\n",
    "    # goal_coords = [[8, 1]]\n",
    "    # for cell in obstacle_coords + goal_coords:\n",
    "    #     if policy[cell[1], cell[0]] != -1:\n",
    "    #         raise ValueError('Obstacle cells and goal cells should have no action')\n",
    "            \n",
    "    # Initialize the transition matrix\n",
    "    transition_matrix = np.zeros((100, 100))\n",
    "    \n",
    "    # Fill up the transition matrix\n",
    "    for y in range(10):\n",
    "        for x in range(10):\n",
    "            current_state = x + y * 10\n",
    "            \n",
    "            # Check if current state is an obstacle or goal, then skip further calculations\n",
    "            if state_reward_map[current_state] == -10 or state_reward_map[current_state] == 10:\n",
    "                transition_matrix[current_state, current_state] = 1\n",
    "                continue\n",
    "            \n",
    "            # Map policy action to movement\n",
    "            action = policy[x, y]\n",
    "            directions = [(0, 1), (1, 0), (0, -1), (-1, 0), (0, 0)]  # N, E, S, W, and stay\n",
    "            action_probs = [0.7, 0.1, 0.1, 0.1]  # Probabilities for N, E, S, W, and stay\n",
    "            \n",
    "            for i, (dx, dy) in enumerate(directions):\n",
    "                if i == action:  # Intended direction\n",
    "                    prob = action_probs[0]\n",
    "                elif i == 4:  # Stay\n",
    "                    prob = action_probs[3]\n",
    "                else:  # Side directions\n",
    "                    prob = action_probs[1]\n",
    "\n",
    "                new_x, new_y = x + dx, y + dy\n",
    "                # Check for border crossing\n",
    "                if 0 <= new_x < 10 and 0 <= new_y < 10:\n",
    "                    new_state = new_x + new_y * 10\n",
    "                    transition_matrix[current_state, new_state] += prob\n",
    "                else:  # Add the probability to stay in the current state if moving out of bounds\n",
    "                    transition_matrix[current_state, current_state] += prob\n",
    "\n",
    "    return transition_matrix\n"
   ]
  },
  {
   "cell_type": "code",
   "execution_count": 24,
   "id": "12dff71a743fa636",
   "metadata": {
    "collapsed": false,
    "ExecuteTime": {
     "end_time": "2024-04-04T22:10:06.698536Z",
     "start_time": "2024-04-04T22:10:06.669616Z"
    }
   },
   "outputs": [],
   "source": [
    "def get_transition_matrix(policy, replacement=True):\n",
    "    \"\"\"\n",
    "    :param replacement: True uses the new function, otherwise uses the old function to compute the transition matrix\n",
    "    :param policy: (10,10) matrix, each element is an integer from -1 to 3, representing the action to take\n",
    "    :return: (100,100) matrix, representing the probability of moving from state i to state j\n",
    "\n",
    "    state i is at [i//10, i%10]\n",
    "    \"\"\"\n",
    "    # Check if the policy matrix is valid: \n",
    "    # 10x10\n",
    "    if policy.shape != (10, 10):\n",
    "        raise ValueError('The policy matrix should be a 10x10 matrix')\n",
    "    # Each element should be an integer in [-1, 3]\n",
    "    if not np.all(np.isin(policy, [-1, 0, 1, 2, 3])):\n",
    "        raise ValueError('Each element in the policy matrix should be an integer in [-1, 3]')\n",
    "    # Obstacle cells and goal cells should have no action\n",
    "    obstacle_coords = [[9, 9], [8, 9], [7, 9], [6, 9], [5, 9], [4, 9], [3, 9], [2, 9], [1, 9], [0, 9], [9, 8], [9, 7], [9, 6], [9, 5], [9, 4], [9, 3], [9, 2], [9, 1], [9, 0], [0, 0], [1, 0], [2, 0], [3, 0], [4, 0], [5, 0], [6, 0], [7, 0], [8, 0], [9, 0], [0, 1], [0, 2], [0, 3], [0, 4], [0, 5], [0, 6], [0, 7], [0, 8], [0, 9], [3, 2], [4, 2], [5, 2], [6, 2], [4, 4], [4, 5], [4, 6], [4, 7], [5, 7], [7, 4], [7, 5]]\n",
    "    goal_coords = [[8, 1]]\n",
    "    for cell in obstacle_coords + goal_coords:\n",
    "        if policy[cell[1], cell[0]] != -1:\n",
    "            raise ValueError('Obstacle cells and goal cells should have no action')\n",
    "    \n",
    "    if replacement is True:\n",
    "    \n",
    "        grid_len = 10\n",
    "        move_prob = 0.7\n",
    "        move_p1_prob = 0.1\n",
    "        move_m1_prob = 0.1\n",
    "        stay_prob = 0.1\n",
    "        \n",
    "        T = np.zeros((grid_len ** 2, grid_len ** 2), dtype=float)\n",
    "        for i in range(grid_len):  # x\n",
    "            for j in range(grid_len):  # y\n",
    "                state = map_x_y_to_state(i, j)  # state = i*10+j, at (i,j)\n",
    "                policy_action = policy[i, j]  # action to take at (i,j) according to policy\n",
    "                if policy_action == 0:  # intend to move N\n",
    "                    # (i,j+1) with prob move_prob if not hit N boundary\n",
    "                    # (i+1,j) with prob move_p1_prob if not hit E boundary\n",
    "                    # (i-1,j) with prob move_m1_prob if not hit W boundary\n",
    "                    # (i,j) with prob stay_prob (not hit any boundary), or stay_prob+move_prob (hit N boundary), or stay_prob+move_p1_prob (hit E boundary), or stay_prob+move_m1_prob (hit W boundary)\n",
    "                    if j < grid_len - 1:\n",
    "                        T[state, map_x_y_to_state(i, j + 1)] += move_prob\n",
    "                    else:\n",
    "                        T[state, state] += move_prob\n",
    "                    if i < grid_len - 1:\n",
    "                        T[state, map_x_y_to_state(i + 1, j)] += move_p1_prob\n",
    "                    else:\n",
    "                        T[state, state] += move_p1_prob\n",
    "                    if i > 0:\n",
    "                        T[state, map_x_y_to_state(i - 1, j)] += move_m1_prob\n",
    "                    else:\n",
    "                        T[state, state] += move_m1_prob\n",
    "                    T[state, state] += stay_prob\n",
    "    \n",
    "                elif policy_action == 1:  # intend to move E\n",
    "                    # (i+1,j) with prob move_prob if not hit E boundary\n",
    "                    # (i,j-1) with prob move_p1_prob if not hit S boundary\n",
    "                    # (i,j+1) with prob move_m1_prob if not hit N boundary\n",
    "                    # (i,j) with prob stay_prob (not hit any boundary), or stay_prob+move_prob (hit E boundary), or stay_prob+move_p1_prob (hit S boundary), or stay_prob+move_m1_prob (hit N boundary)\n",
    "                    if i < grid_len - 1:\n",
    "                        T[state, map_x_y_to_state(i + 1, j)] += move_prob\n",
    "                    else:\n",
    "                        T[state, state] += move_prob\n",
    "                    if j > 0:\n",
    "                        T[state, map_x_y_to_state(i, j - 1)] += move_p1_prob\n",
    "                    else:\n",
    "                        T[state, state] += move_p1_prob\n",
    "                    if j < grid_len - 1:\n",
    "                        T[state, map_x_y_to_state(i, j + 1)] += move_m1_prob\n",
    "                    else:\n",
    "                        T[state, state] += move_m1_prob\n",
    "                    T[state, state] += stay_prob\n",
    "    \n",
    "                elif policy_action == 2:  # intend to move S\n",
    "                    # (i,j-1) with prob move_prob if not hit S boundary\n",
    "                    # (i-1,j) with prob move_p1_prob if not hit W boundary\n",
    "                    # (i+1,j) with prob move_m1_prob if not hit E boundary\n",
    "                    # (i,j) with prob stay_prob (not hit any boundary), or stay_prob+move_prob (hit S boundary), or stay_prob+move_p1_prob (hit W boundary), or stay_prob+move_m1_prob (hit E boundary)\n",
    "                    if j > 0:\n",
    "                        T[state, map_x_y_to_state(i, j - 1)] += move_prob\n",
    "                    else:\n",
    "                        T[state, state] += move_prob\n",
    "                    if i > 0:\n",
    "                        T[state, map_x_y_to_state(i - 1, j)] += move_p1_prob\n",
    "                    else:\n",
    "                        T[state, state] += move_p1_prob\n",
    "                    if i < grid_len - 1:\n",
    "                        T[state, map_x_y_to_state(i + 1, j)] += move_m1_prob\n",
    "                    else:\n",
    "                        T[state, state] += move_m1_prob\n",
    "                    T[state, state] += stay_prob\n",
    "    \n",
    "                elif policy_action == 3:  # intend to move W\n",
    "                    # (i-1,j) with prob move_prob if not hit W boundary\n",
    "                    # (i,j+1) with prob move_p1_prob if not hit N boundary\n",
    "                    # (i,j-1) with prob move_m1_prob if not hit S boundary\n",
    "                    # (i,j) with prob stay_prob (not hit any boundary), or stay_prob+move_prob (hit W boundary), or stay_prob+move_p1_prob (hit N boundary), or stay_prob+move_m1_prob (hit S boundary)\n",
    "                    if i > 0:\n",
    "                        T[state, map_x_y_to_state(i - 1, j)] += move_prob\n",
    "                    else:\n",
    "                        T[state, state] += move_prob\n",
    "                    if j < grid_len - 1:\n",
    "                        T[state, map_x_y_to_state(i, j + 1)] += move_p1_prob\n",
    "                    else:\n",
    "                        T[state, state] += move_p1_prob\n",
    "                    if j > 0:\n",
    "                        T[state, map_x_y_to_state(i, j - 1)] += move_m1_prob\n",
    "                    else:\n",
    "                        T[state, state] += move_m1_prob\n",
    "                    T[state, state] += stay_prob\n",
    "    \n",
    "                else:  # -1 and otherwise, intend to stay\n",
    "                    # (i,j) with prob stay_prob\n",
    "                    T[state, state] += 1\n",
    "    \n",
    "        return T\n",
    "    else:\n",
    "        return get_transition_matrix_old(policy)"
   ]
  },
  {
   "cell_type": "code",
   "execution_count": 25,
   "id": "5c4df2bc54175b20",
   "metadata": {
    "collapsed": false,
    "ExecuteTime": {
     "end_time": "2024-04-04T22:10:06.713530Z",
     "start_time": "2024-04-04T22:10:06.699760Z"
    }
   },
   "outputs": [
    {
     "name": "stdout",
     "output_type": "stream",
     "text": [
      "[[-1 -1 -1 -1 -1 -1 -1 -1 -1 -1]\n",
      " [-1  1  1  1  1  1  1  1 -1 -1]\n",
      " [-1  1  1 -1 -1 -1 -1  1  1 -1]\n",
      " [-1  1  1  1  1  1  1  1  1 -1]\n",
      " [-1  1  1  1 -1  1  1 -1  1 -1]\n",
      " [-1  1  1  1 -1  1  1 -1  1 -1]\n",
      " [-1  1  1  1 -1  1  1  1  1 -1]\n",
      " [-1  1  1  1 -1 -1  1  1  1 -1]\n",
      " [-1  1  1  1  1  1  1  1  1 -1]\n",
      " [-1 -1 -1 -1 -1 -1 -1 -1 -1 -1]]\n",
      "1\n",
      "[[1. 0. 0. ... 0. 0. 0.]\n",
      " [0. 1. 0. ... 0. 0. 0.]\n",
      " [0. 0. 1. ... 0. 0. 0.]\n",
      " ...\n",
      " [0. 0. 0. ... 1. 0. 0.]\n",
      " [0. 0. 0. ... 0. 1. 0.]\n",
      " [0. 0. 0. ... 0. 0. 1.]]\n"
     ]
    }
   ],
   "source": [
    "# Test get_transition_matrix\n",
    "# Initialize the policy where the agent always moves W, i.e., policy[x, y] = 1 for all non-obstacle/goal cells\n",
    "policy = 1 * np.ones((10, 10), dtype=int)\n",
    "policy = make_policy_valid(policy)\n",
    "print(policy)\n",
    "print(policy[3,4])\n",
    "transition_matrix = get_transition_matrix(policy, True)\n",
    "print(transition_matrix)"
   ]
  },
  {
   "cell_type": "code",
   "execution_count": 26,
   "id": "c6aa57847f23cf54",
   "metadata": {
    "collapsed": false,
    "ExecuteTime": {
     "end_time": "2024-04-04T22:10:06.729225Z",
     "start_time": "2024-04-04T22:10:06.715687Z"
    }
   },
   "outputs": [],
   "source": [
    "def get_action_cost_map():\n",
    "    \"\"\"\n",
    "    :return: (100,100) matrix, representing the cost of moving from state i to state j, same dimension as the transition matrix\n",
    "    \n",
    "    State i is at [i//10, i%10]\n",
    "    If i is an obstacle, it costs an action cost of 0 to move to itself, it also costs a state cost of 10 to stay in the obstacle, but this is not considered in the action cost\n",
    "    If i is a goal, it also costs an action cost of 0 to move to itself, it receives a state reward of 10 to stay in the goal, but this is not considered in the action cost/reward\n",
    "    All other moves cost an action cost of 1, regardless of whether the move is successful or not, or the end-up-state is an obstacle or goal\n",
    "    \n",
    "    Note that in this function, all cost are positive, rewards are negative\n",
    "    When using this function, the cost matrix should be negated to get the reward matrix\n",
    "    \"\"\"\n",
    "    grid_len = 10\n",
    "    action_cost = np.ones((grid_len ** 2, grid_len ** 2), dtype=float)\n",
    "    for i in range(grid_len):  # x\n",
    "        for j in range(grid_len):  # y\n",
    "            if [i, j] in obstacle_coords:  # obstacle, cost 0 to move to itself, cannot move to other states\n",
    "                state = map_x_y_to_state(i, j)\n",
    "                action_cost[state, :] = 100  # set all costs to 1000, cannot move to other states\n",
    "                action_cost[state, state] = 0\n",
    "            elif [i, j] in goal_coords:  # goal, cost 0 to move to itself, cannot move to other states\n",
    "                state = map_x_y_to_state(i, j)\n",
    "                action_cost[state, :] = 100  # set all costs to 1000, cannot move to other states\n",
    "                action_cost[state, state] = 0\n",
    "            else:  # other states, cost 1 to move to other states\n",
    "                # since we initialize the action cost to 1, we don't need to do anything here\n",
    "                pass\n",
    "    return action_cost * 0  # No longer needed\n",
    "    "
   ]
  },
  {
   "cell_type": "code",
   "execution_count": 27,
   "id": "68a1b284b9f4e67a",
   "metadata": {
    "collapsed": false,
    "ExecuteTime": {
     "end_time": "2024-04-04T22:10:06.745341Z",
     "start_time": "2024-04-04T22:10:06.730406Z"
    }
   },
   "outputs": [
    {
     "name": "stdout",
     "output_type": "stream",
     "text": [
      "[[  0. 100. 100. ... 100. 100. 100.]\n",
      " [100.   0. 100. ... 100. 100. 100.]\n",
      " [100. 100.   0. ... 100. 100. 100.]\n",
      " ...\n",
      " [100. 100. 100. ...   0. 100. 100.]\n",
      " [100. 100. 100. ... 100.   0. 100.]\n",
      " [100. 100. 100. ... 100. 100.   0.]]\n"
     ]
    }
   ],
   "source": [
    "# Test get_action_cost\n",
    "action_cost_map = get_action_cost_map()\n",
    "print(action_cost_map)"
   ]
  },
  {
   "cell_type": "code",
   "execution_count": 28,
   "id": "c0e473f9fe72b0c2",
   "metadata": {
    "collapsed": false,
    "ExecuteTime": {
     "end_time": "2024-04-04T22:10:06.761272Z",
     "start_time": "2024-04-04T22:10:06.746370Z"
    }
   },
   "outputs": [],
   "source": [
    "def policy_evaluation(policy, transition_matrix, state_reward_map, action_cost_map, gamma=0.99, theta=1e-4):\n",
    "    \"\"\"\n",
    "    Evaluate a policy given an environment and a full description of the environment's dynamics.\n",
    "    \n",
    "    Args:\n",
    "        policy: [10x10 numpy array] The policy to evaluate, where policy[x, y] gives the action to take at position (x, y).\n",
    "        transition_matrix: [100x100 numpy array] State transition probabilities for each action.\n",
    "        state_reward_map: [numpy array] Immediate rewards for all states.\n",
    "        gamma: float, Discount factor.\n",
    "        theta: float, A threshold of change for the value function to determine convergence.\n",
    "        \n",
    "    Returns:\n",
    "        V: (100,) numpy array, The value for each state under the specified policy.\n",
    "    \"\"\"\n",
    "    V = np.zeros(100)  # Initialize state-value function with zeros for each state\n",
    "    iteration = 0  # Initialize iteration counter\n",
    "    while True:\n",
    "        iteration += 1\n",
    "        delta = 0  # Initialize delta to 0 for this iteration\n",
    "        # For each state, perform a \"full backup\"\n",
    "        for s in range(100):\n",
    "            v = V[s]  # Store the current value of state s\n",
    "            # Get the action recommended by the policy for state s\n",
    "            x, y = s % 10, s // 10  # Convert state index to grid position, s = x + y*10\n",
    "            action = policy[x, y]  # Retrieve action from policy\n",
    "            # Initialize a new value for state s\n",
    "            new_value = 0\n",
    "            # For each possible next state, calculate the contribution to the new value\n",
    "            for s_prime in range(100):\n",
    "                # Action affects transition probability: transition_matrix[action][s, s_prime]\n",
    "                # However, we already generated the transition matrix for current policy\n",
    "                # i.e. we no longer need a complete transition matrix with the [action] index\n",
    "                new_value += transition_matrix[s, s_prime] * (state_reward_map[s_prime] - action_cost_map[s, s_prime] + gamma * V[s_prime])\n",
    "            # Update the value of state s in V\n",
    "            V[s] = new_value\n",
    "            # Calculate the maximum change in value across all states seen so far\n",
    "            delta = max(delta, abs(v - V[s]))\n",
    "        # Check if the change in value function is below the threshold for all states\n",
    "        if delta < theta:\n",
    "            break\n",
    "    print(f'Policy evaluated in {iteration} iterations')\n",
    "    return V\n"
   ]
  },
  {
   "cell_type": "code",
   "execution_count": 29,
   "id": "664dc700469b8131",
   "metadata": {
    "collapsed": false,
    "ExecuteTime": {
     "end_time": "2024-04-04T22:10:13.144278Z",
     "start_time": "2024-04-04T22:10:06.762299Z"
    }
   },
   "outputs": [
    {
     "name": "stdout",
     "output_type": "stream",
     "text": [
      "Policy evaluated in 1147 iterations\n",
      "-197.993252890784 -1057.3259330912294 -1097.3380931846918\n"
     ]
    },
    {
     "data": {
      "text/plain": "<Figure size 500x500 with 2 Axes>",
      "image/png": "[encoded data removed]"
     },
     "metadata": {},
     "output_type": "display_data"
    }
   ],
   "source": [
    "# Test policy_evaluation\n",
    "# Initialize the policy where the agent always moves W, i.e., policy[x, y] = 1 for all non-obstacle/goal cells\n",
    "policy = 1 * np.ones((10, 10), dtype=int)\n",
    "policy = make_policy_valid(policy)\n",
    "transition_matrix = get_transition_matrix(policy)\n",
    "V = policy_evaluation(policy, transition_matrix, state_reward_map, action_cost_map)\n",
    "print(V[map_x_y_to_state(1,3)], V[map_x_y_to_state(3,1)], V[map_x_y_to_state(8,1)])\n",
    "\n",
    "# Convert V to a 10x10 matrix for visualization\n",
    "# Be careful that the origin is in the bottom-left corner\n",
    "V_2D = V.reshape(10, 10)\n",
    "\n",
    "# Visualize the value function\n",
    "# V[map_x_y_to_state(8, 1)] = 100  # Use this to indentify the goal state\n",
    "plt.figure(figsize=(5, 5))\n",
    "plt.imshow(V_2D, cmap='cividis', origin='lower')\n",
    "plt.colorbar()\n",
    "plt.title('Value function for Given Policy')\n",
    "plt.xticks(range(10))\n",
    "plt.yticks(range(10))\n",
    "plt.xlabel('X axis')\n",
    "plt.ylabel('Y axis')\n",
    "plt.show()\n"
   ]
  },
  {
   "cell_type": "code",
   "execution_count": 30,
   "id": "50c552cecec06e57",
   "metadata": {
    "collapsed": false,
    "ExecuteTime": {
     "end_time": "2024-04-04T22:10:13.160116Z",
     "start_time": "2024-04-04T22:10:13.145369Z"
    }
   },
   "outputs": [],
   "source": [
    "def policy_improvement(V, policy, transition_matrix, state_reward_map, action_cost_map, gamma=0.9):\n",
    "    \"\"\"\n",
    "    Improve a policy given the value function.\n",
    "    \n",
    "    Args:\n",
    "        V: [numpy array] The value for each state under the specified policy.\n",
    "        policy: [10x10 numpy array] The policy to evaluate, where policy[x, y] gives the action to take at position (x, y).\n",
    "        transition_matrix: [100x100 numpy array] State transition probabilities for each action.\n",
    "        state_reward_map: [numpy array] Immediate rewards for all states.\n",
    "        gamma: float, Discount factor.\n",
    "        \n",
    "    Returns:\n",
    "        policy: [10x10 numpy array] The improved policy.\n",
    "        policy_stable: [bool] Whether the policy is stable.\n",
    "    \"\"\"\n",
    "    obstacle_coords = [[9, 9], [8, 9], [7, 9], [6, 9], [5, 9], [4, 9], [3, 9], [2, 9], [1, 9], [0, 9],\n",
    "                  [9, 8], [9, 7], [9, 6], [9, 5], [9, 4], [9, 3], [9, 2], [9, 1], [9, 0],\n",
    "                  [0, 0], [1, 0], [2, 0], [3, 0], [4, 0], [5, 0], [6, 0], [7, 0], [8, 0], [9, 0],\n",
    "                  [0, 1], [0, 2], [0, 3], [0, 4], [0, 5], [0, 6], [0, 7], [0, 8], [0, 9],\n",
    "                  [3, 2], [4, 2], [5, 2], [6, 2],\n",
    "                  [4, 4], [4, 5], [4, 6], [4, 7], [5, 7],\n",
    "                  [7, 4], [7, 5]]\n",
    "    goal_coords = [[8, 1]]\n",
    "    \n",
    "    obstacle_states = [map_x_y_to_state(cell[0], cell[1]) for cell in obstacle_coords]\n",
    "    goal_states = [map_x_y_to_state(cell[0], cell[1]) for cell in goal_coords]    \n",
    "    \n",
    "    policy_stable = True  # Initialize policy_stable to True\n",
    "    for s in range(100):\n",
    "        # Skip the obstacle and goal states\n",
    "        if s in obstacle_states or s in goal_states:\n",
    "            continue\n",
    "        \n",
    "        old_action = policy[s % 10, s // 10]  # Retrieve action from policy at state s (x,y)\n",
    "        # Initialize the best action and value for state s\n",
    "        best_action = None\n",
    "        best_value = float('-inf')\n",
    "        # For each possible action, calculate the value of the state\n",
    "        for action in range(4):\n",
    "            new_value = 0\n",
    "            \n",
    "            # a_kp1(s) = argmax_a expectation[ r(s,a) + gamma * V(s') ]\n",
    "            for s_prime in range(100):\n",
    "                new_value += transition_matrix[s, s_prime] * (state_reward_map[s_prime] - action_cost_map[s, s_prime] + gamma * V[s_prime])\n",
    "            # Update the best action and value if a better action is found\n",
    "            if new_value > best_value:\n",
    "                best_value = new_value\n",
    "                best_action = action\n",
    "            \n",
    "        # Update the policy with the best action for state s (x,y)\n",
    "        policy[s % 10, s // 10] = best_action\n",
    "        # Check if the best action is different from the old action\n",
    "        if best_action != old_action:\n",
    "            policy_stable = False\n",
    "             \n",
    "    return policy, policy_stable"
   ]
  },
  {
   "cell_type": "code",
   "execution_count": 31,
   "id": "a5614b16da21f56e",
   "metadata": {
    "collapsed": false,
    "ExecuteTime": {
     "end_time": "2024-04-04T22:10:13.176015Z",
     "start_time": "2024-04-04T22:10:13.161217Z"
    }
   },
   "outputs": [],
   "source": [
    "def policy_iteration(policy, state_reward_map, action_cost_map, gamma=0.9, theta=1e-4, save_for_vis=False, max_iter=50):\n",
    "    \"\"\"\n",
    "    Perform policy iteration to find the optimal policy.\n",
    "    \n",
    "    Args:\n",
    "        policy: [10x10 numpy array] The initial policy to evaluate.\n",
    "        state_reward_map: [numpy array] Immediate rewards for all states.\n",
    "        gamma: float, Discount factor.\n",
    "        theta: float, A threshold of change for the value function to determine convergence.\n",
    "        \n",
    "    Returns:\n",
    "        policy: [10x10 numpy array] The optimal policy.\n",
    "    \"\"\"\n",
    "    policy_stable = False  # Initialize policy_stable to False\n",
    "    \n",
    "    # We want to save the evaluation and improvement results in the first 5 iterations and the last iteration\n",
    "    # This is to visualize the policy improvement process\n",
    "    V_list = []\n",
    "    policy_list = []\n",
    "    iteration = 0\n",
    "    while iteration < max_iter:\n",
    "        iteration += 1\n",
    "        transition_matrix = get_transition_matrix(policy)\n",
    "        V = policy_evaluation(policy, transition_matrix, state_reward_map, action_cost_map, gamma, theta)\n",
    "        policy, policy_stable = policy_improvement(V, policy, transition_matrix, state_reward_map, action_cost_map, gamma)\n",
    "        policy = make_policy_valid(policy)\n",
    "        if iteration <= 5 or policy_stable:\n",
    "            V_list.append(V)\n",
    "            policy_list.append(policy)\n",
    "        if policy_stable:\n",
    "            break\n",
    "            \n",
    "    print(f'Policy iteration converged in {iteration} iterations')\n",
    "    \n",
    "    if save_for_vis:\n",
    "        return policy, policy_stable, V_list, policy_list\n",
    "    else:\n",
    "        return policy, policy_stable\n",
    "    "
   ]
  },
  {
   "cell_type": "code",
   "execution_count": 33,
   "id": "58b3d17ff9d7af1d",
   "metadata": {
    "collapsed": false,
    "ExecuteTime": {
     "end_time": "2024-04-04T22:11:03.756507Z",
     "start_time": "2024-04-04T22:10:33.445292Z"
    }
   },
   "outputs": [
    {
     "name": "stdout",
     "output_type": "stream",
     "text": [
      "Policy evaluated in 111 iterations\n",
      "Policy evaluated in 111 iterations\n",
      "Policy evaluated in 111 iterations\n",
      "Policy evaluated in 111 iterations\n",
      "Policy evaluated in 111 iterations\n",
      "Policy evaluated in 111 iterations\n",
      "Policy evaluated in 111 iterations\n",
      "Policy evaluated in 111 iterations\n",
      "Policy evaluated in 111 iterations\n",
      "Policy evaluated in 111 iterations\n",
      "Policy evaluated in 111 iterations\n",
      "Policy evaluated in 111 iterations\n",
      "Policy evaluated in 111 iterations\n",
      "Policy evaluated in 111 iterations\n",
      "Policy evaluated in 111 iterations\n",
      "Policy evaluated in 111 iterations\n",
      "Policy evaluated in 111 iterations\n",
      "Policy evaluated in 111 iterations\n",
      "Policy evaluated in 111 iterations\n",
      "Policy evaluated in 111 iterations\n",
      "Policy evaluated in 111 iterations\n",
      "Policy evaluated in 111 iterations\n",
      "Policy evaluated in 111 iterations\n",
      "Policy evaluated in 111 iterations\n",
      "Policy evaluated in 111 iterations\n",
      "Policy evaluated in 111 iterations\n",
      "Policy evaluated in 111 iterations\n",
      "Policy evaluated in 111 iterations\n",
      "Policy evaluated in 111 iterations\n",
      "Policy evaluated in 111 iterations\n",
      "Policy evaluated in 111 iterations\n",
      "Policy evaluated in 111 iterations\n",
      "Policy evaluated in 111 iterations\n",
      "Policy evaluated in 111 iterations\n",
      "Policy evaluated in 111 iterations\n",
      "Policy evaluated in 111 iterations\n",
      "Policy evaluated in 111 iterations\n",
      "Policy evaluated in 111 iterations\n",
      "Policy evaluated in 111 iterations\n",
      "Policy evaluated in 111 iterations\n",
      "Policy evaluated in 111 iterations\n",
      "Policy evaluated in 111 iterations\n",
      "Policy evaluated in 111 iterations\n",
      "Policy evaluated in 111 iterations\n",
      "Policy evaluated in 111 iterations\n",
      "Policy evaluated in 111 iterations\n",
      "Policy evaluated in 111 iterations\n",
      "Policy evaluated in 111 iterations\n",
      "Policy evaluated in 111 iterations\n",
      "Policy evaluated in 111 iterations\n",
      "Policy iteration converged in 50 iterations\n",
      "Converged = False\n",
      "[[-1 -1 -1 -1 -1 -1 -1 -1 -1 -1]\n",
      " [-1  0  0  0  0  0  0  0 -1 -1]\n",
      " [-1  0  0 -1 -1 -1 -1  0  0 -1]\n",
      " [-1  0  1  0  0  0  0  0  0 -1]\n",
      " [-1  0  1  0 -1  1  1 -1  0 -1]\n",
      " [-1  0  1  0 -1  0  0 -1  0 -1]\n",
      " [-1  0  1  0 -1  0  0  0  0 -1]\n",
      " [-1  0  0  0 -1 -1  0  0  0 -1]\n",
      " [-1  1  0  0  0  0  0  0  0 -1]\n",
      " [-1 -1 -1 -1 -1 -1 -1 -1 -1 -1]]\n"
     ]
    }
   ],
   "source": [
    "# Test policy_iteration\n",
    "# Initialize the policy where the agent always moves N, i.e., policy[x, y] = 1 for all non-obstacle/goal cells\n",
    "policy = 1 * np.ones((10, 10), dtype=int)\n",
    "policy = make_policy_valid(policy)\n",
    "transition_matrix = get_transition_matrix(policy)\n",
    "policy, convergence = policy_iteration(policy, state_reward_map, action_cost_map)\n",
    "print(\"Converged =\", convergence)\n",
    "print(policy)\n"
   ]
  },
  {
   "cell_type": "code",
   "execution_count": null,
   "id": "8ab933fe09f7cdd6",
   "metadata": {
    "collapsed": false,
    "ExecuteTime": {
     "end_time": "2024-04-04T22:10:13.224281Z",
     "start_time": "2024-04-04T22:10:13.224281Z"
    }
   },
   "outputs": [],
   "source": [
    "# Visualize the policy using arrows\n",
    "# The origin is in the bottom-left corner\n",
    "# The arrows are in the same direction as the action\n",
    "# The arrows are in the center of the cell\n",
    "# No arrow is shown for obstacle cells and goal cells\n",
    "plt.figure(figsize=(5, 5))\n",
    "plt.imshow(V_2D, cmap='cividis', origin='lower')\n",
    "plt.colorbar()\n",
    "plt.title('Optimal Policy')\n",
    "plt.xticks(range(10))\n",
    "plt.yticks(range(10))\n",
    "plt.xlabel('X axis')\n",
    "plt.ylabel('Y axis')\n",
    "# policy[3, 7] = 3  # Use this to see if the policy is correctly visualized at desired coordinates\n",
    "for y in range(10):\n",
    "    for x in range(10):\n",
    "        if [x, y] in obstacle_coords or [x, y] in goal_coords:\n",
    "            continue\n",
    "        if policy[x, y] == 0:  # N\n",
    "            plt.arrow(x, y, 0, 0.4, head_width=0.1, head_length=0.1, fc='r', ec='r')\n",
    "        elif policy[x, y] == 1:  # E\n",
    "            plt.arrow(x, y, 0.4, 0, head_width=0.1, head_length=0.1, fc='r', ec='r')\n",
    "        elif policy[x, y] == 2:  # S\n",
    "            plt.arrow(x, y, 0, -0.4, head_width=0.1, head_length=0.1, fc='r', ec='r')\n",
    "        elif policy[x, y] == 3:  # W\n",
    "            plt.arrow(x, y, -0.4, 0, head_width=0.1, head_length=0.1, fc='r', ec='r')\n",
    "plt.show()\n"
   ]
  },
  {
   "cell_type": "code",
   "execution_count": null,
   "id": "e85f2b37213aa88",
   "metadata": {
    "collapsed": false,
    "ExecuteTime": {
     "end_time": "2024-04-04T22:10:13.225392Z",
     "start_time": "2024-04-04T22:10:13.225392Z"
    }
   },
   "outputs": [],
   "source": []
  }
 ],
 "metadata": {
  "kernelspec": {
   "display_name": "Python 3 (ipykernel)",
   "language": "python",
   "name": "python3"
  },
  "language_info": {
   "codemirror_mode": {
    "name": "ipython",
    "version": 3
   },
   "file_extension": ".py",
   "mimetype": "text/x-python",
   "name": "python",
   "nbconvert_exporter": "python",
   "pygments_lexer": "ipython3",
   "version": "3.8.10"
  }
 },
 "nbformat": 4,
 "nbformat_minor": 5
}
